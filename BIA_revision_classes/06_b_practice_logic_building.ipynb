{
 "cells": [
  {
   "cell_type": "markdown",
   "id": "3fbd5a88",
   "metadata": {},
   "source": [
    "Write a Python function that takes a list of numbers and returns a new list containing only the even numbers.\n",
    "\n",
    "- Example Input: [1, 2, 3, 4, 5, 6]\n",
    "- Expected Output: [2, 4, 6]"
   ]
  },
  {
   "cell_type": "code",
   "execution_count": 2,
   "id": "08d93584",
   "metadata": {},
   "outputs": [
    {
     "data": {
      "text/plain": [
       "[2, 4, 6]"
      ]
     },
     "execution_count": 2,
     "metadata": {},
     "output_type": "execute_result"
    }
   ],
   "source": [
    "input = [1, 2, 3, 4, 5, 6]\n",
    "\n",
    "output = [i for i in input if i%2 == 0]\n",
    "output"
   ]
  },
  {
   "cell_type": "markdown",
   "id": "b53ff2f2",
   "metadata": {},
   "source": [
    "Write a function that takes a string and returns True if it’s a palindrome, and False otherwise. (A palindrome reads the same backward as forward.)\n",
    "\n",
    "- Example Input: \"madam\"\n",
    "- Expected Output: True"
   ]
  },
  {
   "cell_type": "code",
   "execution_count": 15,
   "id": "82148a20",
   "metadata": {},
   "outputs": [
    {
     "name": "stdout",
     "output_type": "stream",
     "text": [
      "Palindrome\n"
     ]
    }
   ],
   "source": [
    "check_palindrome = \"madam\"\n",
    "\n",
    "def is_palindrome(s):\n",
    "    if s == s[::-1]:\n",
    "        print(\"Palindrome\")\n",
    "    else:\n",
    "        print(\"Not a Palindrome\") \n",
    "\n",
    "is_palindrome(\"paleselap\")"
   ]
  },
  {
   "cell_type": "code",
   "execution_count": 9,
   "id": "b0288271",
   "metadata": {},
   "outputs": [
    {
     "name": "stdout",
     "output_type": "stream",
     "text": [
      "Palindrome\n"
     ]
    }
   ],
   "source": [
    "s = \"aabaa\"\n",
    "if s == s[::-1]:\n",
    "    print(\"Palindrome\")\n",
    "else:\n",
    "    print(\"Not a palindrome\")"
   ]
  },
  {
   "cell_type": "code",
   "execution_count": 22,
   "id": "53bf337c",
   "metadata": {},
   "outputs": [
    {
     "name": "stdout",
     "output_type": "stream",
     "text": [
      "False\n"
     ]
    }
   ],
   "source": [
    "\n",
    "is_palindrome = lambda s: s == s[::-1]\n",
    "print(is_palindrome(\"madom\"))"
   ]
  },
  {
   "cell_type": "markdown",
   "id": "668c3251",
   "metadata": {},
   "source": [
    "Write a Python function that takes a list of numbers and returns the second largest number.\n",
    "\n",
    "- Example Input: [10, 20, 4, 45, 99]\n",
    "- Expected Output: 45"
   ]
  },
  {
   "cell_type": "code",
   "execution_count": 37,
   "id": "fe69f26c",
   "metadata": {},
   "outputs": [
    {
     "name": "stdout",
     "output_type": "stream",
     "text": [
      "46\n"
     ]
    }
   ],
   "source": [
    "num = [10, 20, 4, 45,23,45, 46,99]\n",
    "\n",
    "num.sort()\n",
    "print(num[-2])\n",
    "    "
   ]
  },
  {
   "cell_type": "code",
   "execution_count": null,
   "id": "1eda4fcb",
   "metadata": {},
   "outputs": [],
   "source": []
  },
  {
   "cell_type": "code",
   "execution_count": 40,
   "id": "dc973966",
   "metadata": {},
   "outputs": [
    {
     "data": {
      "text/plain": [
       "46"
      ]
     },
     "execution_count": 40,
     "metadata": {},
     "output_type": "execute_result"
    }
   ],
   "source": [
    "second_largest_num = lambda x:sorted(x)[-2]\n",
    "\n",
    "second_largest_num(num)"
   ]
  },
  {
   "cell_type": "code",
   "execution_count": 7,
   "id": "072da75d",
   "metadata": {},
   "outputs": [
    {
     "name": "stdout",
     "output_type": "stream",
     "text": [
      "a: 8 b: 5\n"
     ]
    }
   ],
   "source": [
    "# swap two numbers without using 3rd variable\n",
    "a = 5\n",
    "b = 8\n",
    "\n",
    "a, b = b,a\n",
    "\n",
    "print(\"a:\",a ,\"b:\", b)"
   ]
  },
  {
   "cell_type": "code",
   "execution_count": null,
   "id": "409744eb",
   "metadata": {},
   "outputs": [],
   "source": []
  },
  {
   "cell_type": "code",
   "execution_count": 9,
   "id": "cec72198",
   "metadata": {},
   "outputs": [
    {
     "name": "stdout",
     "output_type": "stream",
     "text": [
      "{'a': 3, 'b': 2, 'c': 3, 'd': 2}\n"
     ]
    }
   ],
   "source": [
    "input = ['a','a','a','b','b','c','c','c','d','d']\n",
    "#output = {a:3,b:2,c:3,d:2}\n",
    "emp_dict = {}\n",
    "\n",
    "for i in input:\n",
    " count = 1\n",
    " if i not in emp_dict:\n",
    "  emp_dict[i] = count\n",
    " else:\n",
    "  emp_dict[i] += 1\n",
    "\n",
    "print(emp_dict)\n",
    "  "
   ]
  },
  {
   "cell_type": "code",
   "execution_count": 6,
   "id": "092f7312",
   "metadata": {},
   "outputs": [
    {
     "name": "stdout",
     "output_type": "stream",
     "text": [
      "a\n",
      "b\n",
      "b\n",
      "c\n",
      "c\n",
      "c\n",
      "d\n",
      "d\n",
      "d\n",
      "d\n",
      "a\n",
      "a\n"
     ]
    }
   ],
   "source": [
    "input = 'abbcccddddaa'\n",
    "output = 'a1b2c3d4a2'\n",
    "\n",
    "for i in input:\n",
    "    count = 0\n",
    "    count = input.count(i)\n",
    "    print(i)"
   ]
  },
  {
   "cell_type": "code",
   "execution_count": null,
   "id": "e8765fd2",
   "metadata": {},
   "outputs": [],
   "source": []
  }
 ],
 "metadata": {
  "kernelspec": {
   "display_name": "base",
   "language": "python",
   "name": "python3"
  },
  "language_info": {
   "codemirror_mode": {
    "name": "ipython",
    "version": 3
   },
   "file_extension": ".py",
   "mimetype": "text/x-python",
   "name": "python",
   "nbconvert_exporter": "python",
   "pygments_lexer": "ipython3",
   "version": "3.12.9"
  }
 },
 "nbformat": 4,
 "nbformat_minor": 5
}
