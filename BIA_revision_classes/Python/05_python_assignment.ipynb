{
 "cells": [
  {
   "cell_type": "markdown",
   "id": "c89fe6c5",
   "metadata": {},
   "source": [
    "Problem 1: Dictionary of Squares\n",
    "Write a Python function to print a dictionary where the keys are numbers between 7 and 15 (both included) and the values are the squares of the keys."
   ]
  },
  {
   "cell_type": "code",
   "execution_count": 3,
   "id": "ee756b83",
   "metadata": {},
   "outputs": [
    {
     "name": "stdout",
     "output_type": "stream",
     "text": [
      "{7: 49, 8: 64, 9: 81, 10: 100, 11: 121, 12: 144, 13: 169, 14: 196, 15: 225}\n"
     ]
    }
   ],
   "source": [
    "keys = [7,8,9,10,11,12,13,14,15]\n",
    "\n",
    "def squares(keys):\n",
    "    return [key**2 for key in keys]\n",
    "\n",
    "values = squares(keys)\n",
    "\n",
    "emp_dict = {}\n",
    "for i in range(len(keys)):\n",
    "    emp_dict[keys[i]] = values[i]\n",
    "\n",
    "print(emp_dict)\n"
   ]
  },
  {
   "cell_type": "code",
   "execution_count": 6,
   "id": "5a41eddb",
   "metadata": {},
   "outputs": [
    {
     "name": "stdout",
     "output_type": "stream",
     "text": [
      "[49, 64, 81, 100, 121, 144, 169, 196, 225]\n",
      "{7: 49, 8: 64, 9: 81, 10: 100, 11: 121, 12: 144, 13: 169, 14: 196, 15: 225}\n"
     ]
    }
   ],
   "source": [
    "keys = [7,8,9,10,11,12,13,14,15]\n",
    "values = []\n",
    "map_dict = {}\n",
    "for i in range(len(keys)):\n",
    "    values.append(keys[i]**2)\n",
    "    map_dict[keys[i]] = values[i]\n",
    "print(values)\n",
    "print(map_dict)"
   ]
  },
  {
   "cell_type": "markdown",
   "id": "4f2dc612",
   "metadata": {},
   "source": [
    "Problem 2: Check Sorted Array\n",
    "Write a function check_sorted() that, given an array, returns True if the array is sorted and False otherwise."
   ]
  },
  {
   "cell_type": "code",
   "execution_count": 33,
   "id": "7e65aaa0",
   "metadata": {},
   "outputs": [
    {
     "name": "stdout",
     "output_type": "stream",
     "text": [
      "1\n"
     ]
    },
    {
     "data": {
      "text/plain": [
       "False"
      ]
     },
     "execution_count": 33,
     "metadata": {},
     "output_type": "execute_result"
    }
   ],
   "source": [
    "def check_sorted(array):\n",
    "    for n in range(len(array)-1): # [0,1,2,3,4]\n",
    "        if array[n] < array[n+1]:\n",
    "            print(array[n])\n",
    "            continue  \n",
    "        else:\n",
    "            return False\n",
    "    return True\n",
    "\n",
    "check_sorted([1,72,3,4,5,6,7,8])"
   ]
  },
  {
   "cell_type": "markdown",
   "id": "e9df512e",
   "metadata": {},
   "source": [
    "Problem 3: Reach Last Index\n",
    "Write a Python function that determines whether you can reach the last index of an array by starting at the first index.\n",
    "You are given an array of integers, where each element represents the number of steps you can jump forward from that position. Your goal is to determine if it is possible to reach the last index without jumping out of the array or getting stuck in a loop (i.e., visiting the same index more than once)."
   ]
  },
  {
   "cell_type": "code",
   "execution_count": null,
   "id": "58cad0dd",
   "metadata": {},
   "outputs": [
    {
     "name": "stdout",
     "output_type": "stream",
     "text": [
      "2\n"
     ]
    }
   ],
   "source": [
    "numbers = [3,2,1,2,4,2]\n",
    "last_index = numbers[-1] #.index(2,2)\n",
    "print(last_index)\n",
    "\n",
    "for i in numbers:\n",
    "    if i == 0:\n",
    "        break\n",
    "    elif i > 0:\n"
   ]
  },
  {
   "cell_type": "markdown",
   "id": "ee99df60",
   "metadata": {},
   "source": [
    "Problem 4: Character Occurrences\n",
    "Write a Python function that takes an integer k and a list of characters List, returning a new list where each character's occurrences are tracked. If a character has appeared fewer than k times, append 'acc' to the output list; otherwise, append 'rej'.\n",
    "\n",
    "- Inputs:\n",
    "  - k = 2\n",
    "  - List = ['A', 'B', 'C', 'A', 'A']\n",
    "- Output:\n",
    "['acc', 'acc', 'acc', 'acc', 'rej']"
   ]
  },
  {
   "cell_type": "code",
   "execution_count": 109,
   "id": "8efa1338",
   "metadata": {},
   "outputs": [
    {
     "name": "stdout",
     "output_type": "stream",
     "text": [
      "{'A': 3, 'B': 2, 'C': 1}\n",
      "['acc', 'acc', 'acc', 'acc', 'acc', 'rej']\n"
     ]
    }
   ],
   "source": [
    "k = 2\n",
    "list = ['A','B','C','A','B','A']\n",
    "emp_dict = {}\n",
    "emp_list = []\n",
    "\n",
    "for i in list:\n",
    "  \n",
    "   if i not in emp_dict:    # 'A','B','C','A','B'\n",
    "       count = 1\n",
    "       emp_dict[i] = count     # A:1, B:1, C:1, \n",
    "       emp_list.append('acc')   # A:2, B:2\n",
    "   else:\n",
    "       emp_dict[i] += 1 \n",
    "       if emp_dict[i] <= k:\n",
    "          emp_list.append('acc')\n",
    "       else:\n",
    "          emp_list.append('rej')\n",
    "       \n",
    "print(emp_dict)\n",
    "print(emp_list)"
   ]
  },
  {
   "cell_type": "markdown",
   "id": "6abbb93c",
   "metadata": {},
   "source": [
    "**encapsulate above code into the function**"
   ]
  },
  {
   "cell_type": "code",
   "execution_count": 111,
   "id": "00bf78c8",
   "metadata": {},
   "outputs": [
    {
     "name": "stdout",
     "output_type": "stream",
     "text": [
      "{'A': 3, 'B': 2, 'C': 1}\n",
      "['acc', 'acc', 'acc', 'acc', 'acc', 'rej']\n"
     ]
    }
   ],
   "source": [
    "k =2\n",
    "str_list = ['A','B','C','A','B','A']\n",
    "\n",
    "def check_character_count(str_list,k):\n",
    "\n",
    "    emp_dict = {}\n",
    "    emp_list = []\n",
    "\n",
    "    for i in str_list:\n",
    "    \n",
    "        if i not in emp_dict:    # 'A','B','C','A','B'\n",
    "            count = 1\n",
    "            emp_dict[i] = count     # A:1, B:1, C:1, \n",
    "            emp_list.append('acc')   # A:2, B:2\n",
    "        else:\n",
    "            emp_dict[i] += 1 \n",
    "            if emp_dict[i] <= k:\n",
    "                emp_list.append('acc')\n",
    "            else:\n",
    "                emp_list.append('rej')\n",
    "    \n",
    "    print(emp_dict)\n",
    "    print(emp_list)\n",
    "       \n",
    "check_character_count(list,k)"
   ]
  },
  {
   "cell_type": "markdown",
   "id": "314b9d5a",
   "metadata": {},
   "source": [
    "Problem 5: Sentence Generation\n",
    "Please write a program to generate all sentences where the subject is in [\"I\", \"You\"], the verb is in [\"Play\", \"Love\"], and the object is in [\"Hockey\", \"Football\"]. Output all possible combinations of the sentences."
   ]
  },
  {
   "cell_type": "code",
   "execution_count": 114,
   "id": "da49b08f",
   "metadata": {},
   "outputs": [
    {
     "name": "stdout",
     "output_type": "stream",
     "text": [
      "I Play Hockey\n",
      "I Play Football\n",
      "I Love Hockey\n",
      "I Love Football\n",
      "You Play Hockey\n",
      "You Play Football\n",
      "You Love Hockey\n",
      "You Love Football\n"
     ]
    }
   ],
   "source": [
    "list_1 = [\"I\", \"You\"]\n",
    "list_2 = [\"Play\", \"Love\"]\n",
    "list_3 = [\"Hockey\", \"Football\"]\n",
    "\n",
    "def possible_combinations (list_1 , list_2 , list_3):\n",
    "    combinations = []\n",
    "    for i in list_1:\n",
    "        for j in list_2:\n",
    "            for k in list_3:\n",
    "                combinations = i + \" \" + j + \" \" + k\n",
    "                print(combinations)\n",
    "            \n",
    "possible_combinations(list_1,list_2,list_3)"
   ]
  },
  {
   "cell_type": "markdown",
   "id": "6bbe4040",
   "metadata": {},
   "source": [
    "Problem 6: Letter Combinations\n",
    "You are given a string containing digits from 2 to 9. Each digit maps to a set of letters, similar to the telephone buttons on old mobile phones. The mapping is as follows:\n",
    "●\t2: \"abc\"\n",
    "●\t3: \"def\"\n",
    "●\t4: \"ghi\"\n",
    "●\t5: \"jkl\"\n",
    "●\t6: \"mno\"\n",
    "●\t7: \"pqrs\"\n",
    "●\t8: \"tuv\"\n",
    "●\t9: \"wxyz\"\n",
    "Inputs:\n",
    "●\tdigits = \"23\"\n",
    "Output:\n",
    "[\"ad\", \"ae\", \"af\", \"bd\", \"be\", \"bf\", \"cd\", \"ce\", \"cf\"]\n"
   ]
  },
  {
   "cell_type": "code",
   "execution_count": 126,
   "id": "83a94f3a",
   "metadata": {},
   "outputs": [
    {
     "data": {
      "text/plain": [
       "['ag', 'ah', 'ai', 'bg', 'bh', 'bi', 'cg', 'ch', 'ci']"
      ]
     },
     "execution_count": 126,
     "metadata": {},
     "output_type": "execute_result"
    }
   ],
   "source": [
    "dict_1 = {2: \"abc\",\n",
    "          3: \"def\",\n",
    "          4: \"ghi\",\n",
    "          5: \"jkl\",\n",
    "          6: \"mno\",\n",
    "          7: \"pqrs\",\n",
    "          8: \"tuv\",\n",
    "          9: \"wxyz\"\n",
    "          }\n",
    "def get_combinations(key1,key2):\n",
    "    combinations = []\n",
    "    for i in dict_1[key1]: # a b c\n",
    "        for j in dict_1[key2]: # d e f\n",
    "            combinations.append(i+j)\n",
    "    return combinations\n",
    "get_combinations(2,4)"
   ]
  },
  {
   "cell_type": "markdown",
   "id": "8e488aac",
   "metadata": {},
   "source": [
    "Problem 7: First Non-Repeating Character\n",
    "Given a string s, write a Python function to find the first non-repeating character in it and return its index. If it does not exist, return -1.\n",
    "Inputs:\n",
    "●\ts = \"leetcode\"\n",
    "Output:\n",
    "0\n",
    "Inputs:\n",
    "●\ts = \"loveleetcode\"\n",
    "Output:\n",
    "2\n",
    "Inputs:\n",
    "●\ts = \"aabb\"\n",
    "Output:\n",
    "-1"
   ]
  },
  {
   "cell_type": "code",
   "execution_count": 144,
   "id": "842415c9",
   "metadata": {},
   "outputs": [
    {
     "name": "stdout",
     "output_type": "stream",
     "text": [
      "[1, 1, 1, 1, 2, 2, 3, 1, 1, 2, 1, 4]\n",
      "{'l': 2, 'o': 2, 'v': 1, 'e': 4, 't': 1, 'c': 1, 'd': 1}\n"
     ]
    }
   ],
   "source": [
    "def check_index(string):\n",
    "    emp_dict = {}\n",
    "    emp_list= []\n",
    "    for i in string:\n",
    "        if i not in emp_dict:\n",
    "            emp_dict[i] = 1\n",
    "            emp_list.append(1)\n",
    "        else:\n",
    "            emp_dict[i] += 1\n",
    "            count = emp_dict[i]\n",
    "            emp_list.append(count)\n",
    "    print(emp_list)\n",
    "    print(emp_dict)\n",
    "\n",
    "check_index(\"loveleetcode\")"
   ]
  },
  {
   "cell_type": "code",
   "execution_count": 143,
   "id": "fa98a86f",
   "metadata": {},
   "outputs": [
    {
     "data": {
      "text/plain": [
       "dict_keys(['A', 'B', 'C'])"
      ]
     },
     "execution_count": 143,
     "metadata": {},
     "output_type": "execute_result"
    }
   ],
   "source": [
    "emp_dict.keys()"
   ]
  },
  {
   "cell_type": "code",
   "execution_count": null,
   "id": "cc638272",
   "metadata": {},
   "outputs": [],
   "source": []
  }
 ],
 "metadata": {
  "kernelspec": {
   "display_name": "Python 3",
   "language": "python",
   "name": "python3"
  },
  "language_info": {
   "codemirror_mode": {
    "name": "ipython",
    "version": 3
   },
   "file_extension": ".py",
   "mimetype": "text/x-python",
   "name": "python",
   "nbconvert_exporter": "python",
   "pygments_lexer": "ipython3",
   "version": "3.12.3"
  }
 },
 "nbformat": 4,
 "nbformat_minor": 5
}
