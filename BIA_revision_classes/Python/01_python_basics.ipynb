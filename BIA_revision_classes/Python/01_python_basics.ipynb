{
 "cells": [
  {
   "cell_type": "markdown",
   "id": "6fa7750e",
   "metadata": {},
   "source": [
    "# Assignment - Statements in Python"
   ]
  },
  {
   "cell_type": "code",
   "execution_count": 4,
   "id": "0c15a748",
   "metadata": {},
   "outputs": [
    {
     "name": "stdout",
     "output_type": "stream",
     "text": [
      "Alice99 Alice99 Alice99 Alice99 Alice99 Hello World 99\n",
      "<class 'str'> <class 'str'> <class 'int'>\n"
     ]
    }
   ],
   "source": [
    "# Example # 1 Assigning a string to a variable\n",
    "p = \"Alice99\"\n",
    "q = \"jack\"\n",
    "num = 123\n",
    "\n",
    "print(p,p,p,p,p,\"Hello World\",99)\n",
    "print(type(p),type(q), type(num))"
   ]
  },
  {
   "cell_type": "code",
   "execution_count": 6,
   "id": "27cb8c19",
   "metadata": {},
   "outputs": [
    {
     "name": "stdout",
     "output_type": "stream",
     "text": [
      "150 38\n"
     ]
    }
   ],
   "source": [
    "# Example # 2 Assigning a value to a variable\n",
    "x = 30\n",
    "y = x * 5\n",
    "z = 2 * 4 + x\n",
    "print(y,z)"
   ]
  },
  {
   "cell_type": "code",
   "execution_count": null,
   "id": "774b6784",
   "metadata": {},
   "outputs": [
    {
     "name": "stdout",
     "output_type": "stream",
     "text": [
      "Hello, \n",
      "World \n",
      "!\n"
     ]
    }
   ],
   "source": [
    "# Example # 3 Printing a string\n",
    "p_string = \"Hello, \\nWorld \\n!\"\n",
    "print(p_string)"
   ]
  },
  {
   "cell_type": "code",
   "execution_count": null,
   "id": "736065f9",
   "metadata": {},
   "outputs": [
    {
     "name": "stdout",
     "output_type": "stream",
     "text": [
      "Hello, \tWorld \t!\n"
     ]
    }
   ],
   "source": [
    "p_string = \"Hello, \\tWorld \\t!\" # One Tab equalent to 5 spaces\n",
    "print(p_string)"
   ]
  },
  {
   "cell_type": "code",
   "execution_count": 10,
   "id": "203e4390",
   "metadata": {},
   "outputs": [
    {
     "name": "stdout",
     "output_type": "stream",
     "text": [
      "Bike \t bike\n"
     ]
    }
   ],
   "source": [
    "print(\"Bike \\t bike\")"
   ]
  },
  {
   "cell_type": "code",
   "execution_count": 13,
   "id": "84f2ec67",
   "metadata": {},
   "outputs": [
    {
     "name": "stdout",
     "output_type": "stream",
     "text": [
      "Hi Hi Hi Hi Hi Hi Hi Hi Hi Hi Hi Hi Hi Hi Hi Hi Hi Hi Hi Hi Hi Hi Hi Hi Hi Hi Hi Hi Hi Hi Hi Hi Hi Hi Hi \n"
     ]
    }
   ],
   "source": [
    "x = 35\n",
    "y = \"Hi \"\n",
    "print(x * y)"
   ]
  },
  {
   "cell_type": "markdown",
   "id": "f5992a12",
   "metadata": {},
   "source": [
    "# Datatypes in Python"
   ]
  },
  {
   "cell_type": "code",
   "execution_count": 27,
   "id": "f9a3ea97",
   "metadata": {},
   "outputs": [
    {
     "name": "stdout",
     "output_type": "stream",
     "text": [
      "String: i am happy.\t <class 'str'> \n",
      "Number: 20\t\t <class 'int'> \n",
      "Decimal: 20.378\t\t <class 'float'> \n",
      "Boolean_True: True\t <class 'bool'> \n",
      "Boolean_False: False\t <class 'bool'>\n"
     ]
    }
   ],
   "source": [
    "str = \"i am happy.\"\n",
    "num = 20\n",
    "decimal = 20.378\n",
    "boolean_T = True\n",
    "boolean_F = False\n",
    "\n",
    "print(f\"String: {str}\\t\" ,type(str), f\"\\nNumber: {num}\\t\\t\",type(num) , \n",
    "      f\"\\nDecimal: {decimal}\\t\\t\",type(decimal) , f\"\\nBoolean_True: {boolean_T}\\t\",type(boolean_T) , \n",
    "      f\"\\nBoolean_False: {boolean_F}\\t\",type(boolean_F))"
   ]
  },
  {
   "cell_type": "markdown",
   "id": "81728161",
   "metadata": {},
   "source": [
    "# IF - ELSE Conditional Statement"
   ]
  },
  {
   "cell_type": "code",
   "execution_count": null,
   "id": "c01a97d2",
   "metadata": {},
   "outputs": [
    {
     "name": "stdout",
     "output_type": "stream",
     "text": [
      "HI\n",
      "DRY RUN\n"
     ]
    }
   ],
   "source": [
    "x1 = 3\n",
    "\n",
    "if x1 < 6:\n",
    "    print(\"HI\")\n",
    "    if x1 == 3:         # Assignment Operator\n",
    "        print(\"DRY RUN\")\n",
    "else:\n",
    "    print(\"BYE\")"
   ]
  },
  {
   "cell_type": "code",
   "execution_count": 35,
   "id": "a98e2eb6",
   "metadata": {},
   "outputs": [
    {
     "name": "stdout",
     "output_type": "stream",
     "text": [
      "C\n"
     ]
    }
   ],
   "source": [
    "score = 56\n",
    "if score > 90:\n",
    "    print(\"A+\")\n",
    "elif score > 75:\n",
    "    print(\"A\")\n",
    "elif score > 60:\n",
    "    print(\"B\")\n",
    "elif score > 50:\n",
    "    print(\"C\")\n",
    "else: \n",
    "    print(\"FAIL\")"
   ]
  },
  {
   "cell_type": "markdown",
   "id": "749b77ec",
   "metadata": {},
   "source": [
    "# FOR LOOP"
   ]
  },
  {
   "cell_type": "code",
   "execution_count": 36,
   "id": "0a9de648",
   "metadata": {},
   "outputs": [
    {
     "name": "stdout",
     "output_type": "stream",
     "text": [
      "1\n",
      "2\n",
      "3\n",
      "4\n"
     ]
    }
   ],
   "source": [
    "for value in range(1,5):\n",
    "    print(value)"
   ]
  },
  {
   "cell_type": "code",
   "execution_count": null,
   "id": "1e56bcdc",
   "metadata": {},
   "outputs": [
    {
     "name": "stdout",
     "output_type": "stream",
     "text": [
      "2  x  1  =  2\n",
      "2  x  2  =  4\n",
      "2  x  3  =  6\n",
      "2  x  4  =  8\n",
      "2  x  5  =  10\n",
      "2  x  6  =  12\n",
      "2  x  7  =  14\n",
      "2  x  8  =  16\n",
      "2  x  9  =  18\n",
      "2  x  10  =  20\n"
     ]
    }
   ],
   "source": [
    "for i in range(2,21,2):\n",
    "    print(\"2  x \",int(i/2) , \" = \", i)"
   ]
  },
  {
   "cell_type": "code",
   "execution_count": 54,
   "id": "c87af68a",
   "metadata": {},
   "outputs": [
    {
     "name": "stdout",
     "output_type": "stream",
     "text": [
      "9  x  1  =  9\n",
      "9  x  2  =  18\n",
      "9  x  3  =  27\n",
      "9  x  4  =  36\n",
      "9  x  5  =  45\n",
      "9  x  6  =  54\n",
      "9  x  7  =  63\n",
      "9  x  8  =  72\n",
      "9  x  9  =  81\n",
      "9  x  10  =  90\n"
     ]
    }
   ],
   "source": [
    "num = int(input(\"Enter the table you want to print:\"))\n",
    "for i in range(1,11):\n",
    "    print(num , \" x \",i,\" = \",i*num)"
   ]
  },
  {
   "cell_type": "markdown",
   "id": "2e0a63ca",
   "metadata": {},
   "source": [
    "# Multiple Assignments"
   ]
  },
  {
   "cell_type": "code",
   "execution_count": 55,
   "id": "ab7882fa",
   "metadata": {},
   "outputs": [
    {
     "name": "stdout",
     "output_type": "stream",
     "text": [
      "12\n",
      "13\n",
      "14\n"
     ]
    }
   ],
   "source": [
    "a , b , c = 12 , 13 , 14\n",
    "\n",
    "print(a)\n",
    "print(b)\n",
    "print(c)"
   ]
  },
  {
   "cell_type": "code",
   "execution_count": 66,
   "id": "17d12170",
   "metadata": {},
   "outputs": [
    {
     "name": "stdout",
     "output_type": "stream",
     "text": [
      "0\n",
      "Number is Zero\n"
     ]
    }
   ],
   "source": [
    "num = int(input(\"Enter any Number: \"))\n",
    "\n",
    "print(num)\n",
    "if num > 0:\n",
    "    print(\"Number is Positive\")\n",
    "elif num == 0:\n",
    "    print(\"Number is Zero\")\n",
    "else:\n",
    "    print(\"Number is Negative\")"
   ]
  },
  {
   "cell_type": "markdown",
   "id": "291753e7",
   "metadata": {},
   "source": [
    "# Concatination in string with plus sign"
   ]
  },
  {
   "cell_type": "code",
   "execution_count": 69,
   "id": "4b1611c5",
   "metadata": {},
   "outputs": [
    {
     "name": "stdout",
     "output_type": "stream",
     "text": [
      "Sobia Alamgir\n",
      "$$$$$\n"
     ]
    }
   ],
   "source": [
    "first_name = \"Sobia\"\n",
    "last_name = \"Alamgir\"\n",
    "full_name = first_name + \" \" + last_name\n",
    "\n",
    "print(full_name)\n",
    "print(\"$\" * 5)"
   ]
  },
  {
   "cell_type": "markdown",
   "id": "e0fccea1",
   "metadata": {},
   "source": [
    "# Bulitin Functions"
   ]
  },
  {
   "cell_type": "code",
   "execution_count": null,
   "id": "4b05421c",
   "metadata": {},
   "outputs": [
    {
     "name": "stdout",
     "output_type": "stream",
     "text": [
      "Pyth on \n",
      "Length: 7\n",
      "\n",
      "i am learning python. \n",
      "Length: 21\n"
     ]
    }
   ],
   "source": [
    "str = \"Pyth on\" # Store in the variable, when you want to use that variable multiple times\n",
    "a = \"i am learning python.\"\n",
    "print(str , \"\\nLength:\",len(str))\n",
    "print()\n",
    "print(a,\"\\nLength:\",len(a))"
   ]
  },
  {
   "cell_type": "markdown",
   "id": "903869d1",
   "metadata": {},
   "source": [
    "# Indexing"
   ]
  },
  {
   "cell_type": "code",
   "execution_count": null,
   "id": "af09211c",
   "metadata": {},
   "outputs": [
    {
     "name": "stdout",
     "output_type": "stream",
     "text": [
      "First Character: P\n",
      "Second Character: y\n",
      "Last Character: n\n",
      "Second Last Character: o\n",
      "First 3 Characters: Pyt\n",
      "Last 3 Characters: hon\n",
      "Middle 3 characters: yth yth\n",
      "Step = 2: yh\n"
     ]
    }
   ],
   "source": [
    "text  =\"Python\"\n",
    "\n",
    "#  P  y  t  h  o  n\n",
    "#  0  1  2  3  4  5\n",
    "# -6 -5 -4 -3 -2 -1\n",
    "\n",
    "print(\"First Character:\",text[0])   # Square brackets is for indexing\n",
    "print(\"Second Character:\", text[1])\n",
    "print(\"Last Character:\", text[-1])\n",
    "print(\"Second Last Character:\", text[-2])\n",
    "\n",
    "print(\"First 3 Characters:\", text[0:3]) # last index is not included like in range function\n",
    "print(\"Last 3 Characters:\", text[-3:]) \n",
    "print(\"Middle 3 characters:\", text[1:4], text[-5:-2])\n",
    "\n",
    "print(\"Step = 2:\" , text[1:4:2])"
   ]
  },
  {
   "cell_type": "code",
   "execution_count": 108,
   "id": "ef3381c2",
   "metadata": {},
   "outputs": [
    {
     "name": "stdout",
     "output_type": "stream",
     "text": [
      "P 0\n",
      "y 1\n",
      "t 2\n",
      "o 4\n",
      "n 5\n",
      "  6\n",
      "  7\n",
      "  8\n",
      "j 9\n",
      "h 10\n",
      "j 11\n"
     ]
    }
   ],
   "source": [
    "text = \"Python   jhj\"\n",
    "\n",
    "for i in range(len(text)):\n",
    "    if i != 3:  # Skip the 4th character 'h'\n",
    "        print(text[i],i)"
   ]
  },
  {
   "cell_type": "code",
   "execution_count": 101,
   "id": "3ba4a70b",
   "metadata": {},
   "outputs": [
    {
     "name": "stdout",
     "output_type": "stream",
     "text": [
      "P\n",
      "y\n",
      "t\n",
      "o\n",
      "n\n",
      " \n",
      " \n",
      " \n",
      "j\n",
      "j\n"
     ]
    }
   ],
   "source": [
    "# skip 'h'\n",
    "emp_list = []\n",
    "for i in text:\n",
    "    if i != 'h':\n",
    "        print(i)"
   ]
  },
  {
   "cell_type": "code",
   "execution_count": 95,
   "id": "3301bae7",
   "metadata": {},
   "outputs": [
    {
     "data": {
      "text/plain": [
       "False"
      ]
     },
     "execution_count": 95,
     "metadata": {},
     "output_type": "execute_result"
    }
   ],
   "source": [
    "3 != 3"
   ]
  },
  {
   "cell_type": "code",
   "execution_count": 96,
   "id": "8191c893",
   "metadata": {},
   "outputs": [
    {
     "data": {
      "text/plain": [
       "True"
      ]
     },
     "execution_count": 96,
     "metadata": {},
     "output_type": "execute_result"
    }
   ],
   "source": [
    "2 != 3"
   ]
  },
  {
   "cell_type": "code",
   "execution_count": 107,
   "id": "b1d9f98f",
   "metadata": {},
   "outputs": [
    {
     "name": "stdout",
     "output_type": "stream",
     "text": [
      "h 3\n",
      "o 4\n",
      "n 5\n",
      "\n",
      "P 0\n",
      "y 1\n",
      "t 2\n"
     ]
    }
   ],
   "source": [
    "text = \"Python\"\n",
    "\n",
    "for i in range(len(text)):\n",
    "    if i >= 3: \n",
    "        print(text[i],i)\n",
    "\n",
    "print()\n",
    "for i in range(len(text)):\n",
    "    if i < 3:\n",
    "        print(text[i],i)"
   ]
  },
  {
   "cell_type": "markdown",
   "id": "3e7cb911",
   "metadata": {},
   "source": [
    "# String Slices\n",
    "\n",
    "- string slicing will always be Left to right"
   ]
  },
  {
   "cell_type": "code",
   "execution_count": 112,
   "id": "705dd9e5",
   "metadata": {},
   "outputs": [
    {
     "name": "stdout",
     "output_type": "stream",
     "text": [
      "First 3 Characters: Pyt\n",
      "Last 3 Characters: hon\n",
      "Middle 3 characters: yth yth\n",
      "\n",
      "First 3 Characters: Pyt\n",
      "Last 3 Characters: hon\n",
      "Middle 3 characters: yth yth\n"
     ]
    }
   ],
   "source": [
    "text = \"Python\"\n",
    "\n",
    "#  P  y  t  h  o  n\n",
    "#  0  1  2  3  4  5\n",
    "# -6 -5 -4 -3 -2 -1\n",
    "\n",
    "print(\"First 3 Characters:\", text[0:3]) # last index is not included like in range function\n",
    "print(\"Last 3 Characters:\", text[-3:]) \n",
    "print(\"Middle 3 characters:\", text[1:4], text[-5:-2])\n",
    "\n",
    "print()\n",
    "\n",
    "print(\"First 3 Characters:\", text[-6:3]) # last index is not included like in range function\n",
    "print(\"Last 3 Characters:\", text[3:]) \n",
    "print(\"Middle 3 characters:\", text[1:-2], text[-5:4])"
   ]
  },
  {
   "cell_type": "code",
   "execution_count": 115,
   "id": "02ee86aa",
   "metadata": {},
   "outputs": [
    {
     "name": "stdout",
     "output_type": "stream",
     "text": [
      "From second character to onwards: ython\n",
      "other option: ython\n"
     ]
    }
   ],
   "source": [
    "print(\"From second character to onwards:\",text[1:])\n",
    "print(\"other option:\", text[-5:])"
   ]
  },
  {
   "cell_type": "code",
   "execution_count": null,
   "id": "783b8eda",
   "metadata": {},
   "outputs": [
    {
     "name": "stdout",
     "output_type": "stream",
     "text": [
      "start from 0: Pyth\n",
      "Pyth\n",
      "Python\n",
      "nohtyP\n"
     ]
    }
   ],
   "source": [
    "print(\"start from 0:\",text[0:-2]) #\n",
    "print(text[:-2])\n",
    "print(text[:]) # print all characters\n",
    "print(text[::-1]) # reverse the string 'palendrome'"
   ]
  },
  {
   "cell_type": "code",
   "execution_count": 129,
   "id": "73751230",
   "metadata": {},
   "outputs": [
    {
     "name": "stdout",
     "output_type": "stream",
     "text": [
      "oht\n"
     ]
    }
   ],
   "source": [
    "#  P  y  t  h  o  n\n",
    "#  0  1  2  3  4  5\n",
    "# -6 -5 -4 -3 -2 -1\n",
    "\n",
    "print(text[-2:-5:-1]) # from -2 to -5 with jump 1 "
   ]
  },
  {
   "cell_type": "code",
   "execution_count": 8,
   "id": "7daafb3b",
   "metadata": {},
   "outputs": [
    {
     "name": "stdout",
     "output_type": "stream",
     "text": [
      "aiboS\n",
      "Sobi Sobi\n",
      "Sba Sobia\n"
     ]
    }
   ],
   "source": [
    "word = 'Sobia'\n",
    "print(word[::-1])\n",
    "print(word[:4],word[:-1])\n",
    "print(word[::2], word[::1])"
   ]
  },
  {
   "cell_type": "code",
   "execution_count": 14,
   "id": "1d47be9a",
   "metadata": {},
   "outputs": [
    {
     "name": "stdout",
     "output_type": "stream",
     "text": [
      "Machine gninraeL Model\n"
     ]
    }
   ],
   "source": [
    "sentence = \"Machine Learning Model\"\n",
    "part1 = sentence[0:7]\n",
    "part2 = sentence[8:16][::-1]\n",
    "part3 = sentence[17:]\n",
    "\n",
    "print(part1, part2, part3)"
   ]
  },
  {
   "cell_type": "code",
   "execution_count": 17,
   "id": "87c841ba",
   "metadata": {},
   "outputs": [
    {
     "name": "stdout",
     "output_type": "stream",
     "text": [
      "aSeeF\n"
     ]
    }
   ],
   "source": [
    "text = \"DataScienceIsFun\"\n",
    "\n",
    "print(text[1::3])"
   ]
  },
  {
   "cell_type": "code",
   "execution_count": null,
   "id": "388a6904",
   "metadata": {},
   "outputs": [
    {
     "name": "stdout",
     "output_type": "stream",
     "text": [
      "5 6 1\n",
      "\n",
      "5\n",
      "6\n",
      "1\n",
      "[5, 6, 1]\n"
     ]
    }
   ],
   "source": [
    "matrix = [[5, 2, 3],\n",
    "          [4, 6, 7],\n",
    "          [8, 9, 1]]\n",
    "\n",
    "# Static practice\n",
    "print(matrix[0][0],matrix[1][1],matrix[2][2])\n",
    "print( )\n",
    "\n",
    "# FOR LOOP , Dynamic practice\n",
    "for i in range(len(matrix)):\n",
    "    print(matrix[i][i])\n",
    "\n",
    "# List Comprehension\n",
    "list_cmp = [matrix[i][i] for i in range(len(matrix))]\n",
    "print(list_cmp)"
   ]
  },
  {
   "cell_type": "code",
   "execution_count": 34,
   "id": "de6cc4c3",
   "metadata": {},
   "outputs": [
    {
     "name": "stdout",
     "output_type": "stream",
     "text": [
      "IdxnRcs\n",
      "['I', '*', 'd', '*', 'x', '*', 'n', '*', 'R', '*', 'c', '*', 's']\n",
      "I*d*x*n*R*c*s\n"
     ]
    }
   ],
   "source": [
    "# Replace Odd indexes with *\n",
    "Emp_list = []\n",
    "word = \"IndexingRocks\"\n",
    "\n",
    "print(word[::2])\n",
    "\n",
    "for i in range(len(word)):\n",
    "    if i % 2 == 0 :\n",
    "        Emp_list.append(word[i])\n",
    "    else:\n",
    "        Emp_list.append('*')\n",
    "\n",
    "print(Emp_list)\n",
    "\n",
    "final_string = ''.join(Emp_list)\n",
    "print(final_string)\n",
    "\n"
   ]
  },
  {
   "cell_type": "markdown",
   "id": "89fc2497",
   "metadata": {},
   "source": [
    "# Typecasting"
   ]
  },
  {
   "cell_type": "code",
   "execution_count": 7,
   "id": "1c2b3024",
   "metadata": {},
   "outputs": [
    {
     "name": "stdout",
     "output_type": "stream",
     "text": [
      "String:  123 <class 'str'>\n",
      "Float:  123.0 <class 'float'>\n",
      "Integer:  123 <class 'int'>\n"
     ]
    }
   ],
   "source": [
    "num = 123\n",
    "\n",
    "print(\"String: \", str(num), type(str(num)))\n",
    "print(\"Float: \", float(num), type(float(num)))\n",
    "print(\"Integer: \", int(num), type(int(num)))\n"
   ]
  },
  {
   "cell_type": "markdown",
   "id": "9e0a369c",
   "metadata": {},
   "source": [
    "# String Functions\n",
    "- upper\n",
    "- lower\n",
    "- capitalize\n",
    "- title"
   ]
  },
  {
   "cell_type": "code",
   "execution_count": 13,
   "id": "3b176b4b",
   "metadata": {},
   "outputs": [
    {
     "name": "stdout",
     "output_type": "stream",
     "text": [
      "Upper: \t SOBIA ALAMGIR\n",
      "Lower: \t sobia alamgir\n",
      "Capitalize:  Sobia alamgir\n",
      "Title: \t Sobia Alamgir\n"
     ]
    }
   ],
   "source": [
    "text = \"Sobia Alamgir\"\n",
    "print(\"Upper: \\t\", text.upper())\n",
    "print(\"Lower: \\t\",text.lower())\n",
    "print(\"Capitalize: \", text.capitalize())\n",
    "print(\"Title: \\t\", text.title())"
   ]
  },
  {
   "cell_type": "markdown",
   "id": "8afe5430",
   "metadata": {},
   "source": [
    "# Strip Functions\n",
    "- strip()\n",
    "- lstrip()\n",
    "- rstrip()"
   ]
  },
  {
   "cell_type": "code",
   "execution_count": 15,
   "id": "b901ef50",
   "metadata": {},
   "outputs": [
    {
     "name": "stdout",
     "output_type": "stream",
     "text": [
      "Strip Function:  Sobia Alamgir 19\n",
      "lstrip Function:  Sobia Alamgir    19\n",
      "rstrip Function:     Sobia Alamgir 19\n"
     ]
    }
   ],
   "source": [
    "text = \"   Sobia Alamgir   \"\n",
    "\n",
    "print(\"Strip Function: \", text.strip(), len(text))\n",
    "print(\"lstrip Function: \" , text.lstrip(), len(text))\n",
    "print(\"rstrip Function: \", text.rstrip(), len(text))"
   ]
  },
  {
   "cell_type": "markdown",
   "id": "17ac26ae",
   "metadata": {},
   "source": [
    "- find()\n",
    "- index()\n",
    "- replace()"
   ]
  },
  {
   "cell_type": "code",
   "execution_count": 25,
   "id": "42228317",
   "metadata": {},
   "outputs": [
    {
     "name": "stdout",
     "output_type": "stream",
     "text": [
      "find Function: 7\n",
      "replace Function: Javascirpt is easy    and Python is f@un.\n",
      "index Function: 7\n"
     ]
    }
   ],
   "source": [
    "text = \"Python is easy    and Python is f@un.\"\n",
    "\n",
    "print(\"find Function:\", text.find(\"is\"))\n",
    "print(\"replace Function:\", text.replace(\"Python\", \"Javascirpt\", 1) ) # by default it replace All values\n",
    "print(\"index Function:\", text.index(\"is\"))"
   ]
  },
  {
   "cell_type": "code",
   "execution_count": 26,
   "id": "8ef320ba",
   "metadata": {},
   "outputs": [
    {
     "name": "stdout",
     "output_type": "stream",
     "text": [
      "replace Function: Javascirpt is easy and Python is fun.\n"
     ]
    }
   ],
   "source": [
    "print(\"replace Function:\", text.replace(\"Python\", \"Javascirpt\", 1).replace(\"@\",\"\").replace(\"   \", \"\"))"
   ]
  },
  {
   "cell_type": "markdown",
   "id": "c8e84784",
   "metadata": {},
   "source": [
    "- .count() - count number of occurances in the string\n",
    "- .isstartswith() - check starting Alphabet / word\n",
    "- .isdigit() - is all the Digits in the string\n",
    "- .isalpha() - is all the Alphabets in the string\n",
    "- isalnum() - is any Alphabets / Numbers are present in string"
   ]
  },
  {
   "cell_type": "code",
   "execution_count": 34,
   "id": "fd4ec70d",
   "metadata": {},
   "outputs": [
    {
     "name": "stdout",
     "output_type": "stream",
     "text": [
      "Count Function: 2\n",
      "Count Function: 1\n"
     ]
    }
   ],
   "source": [
    "text = \"Python is easy    and Python is f@un.\"\n",
    "\n",
    "print(\"Count Function:\",text.count(\" is \"))\n",
    "print(\"Count Function:\",text.count(\" Python \"))"
   ]
  },
  {
   "cell_type": "code",
   "execution_count": 39,
   "id": "b972ff68",
   "metadata": {},
   "outputs": [
    {
     "name": "stdout",
     "output_type": "stream",
     "text": [
      "isstartswith() Function:  True\n",
      "isstartswith() Function:  True\n",
      "isstartswith() Function:  False\n"
     ]
    }
   ],
   "source": [
    "print(\"isstartswith() Function: \", text.startswith(\"P\"))\n",
    "print(\"isstartswith() Function: \", text.startswith(\"Python\"))\n",
    "print(\"isstartswith() Function: \", text.startswith(\"p\"))"
   ]
  },
  {
   "cell_type": "code",
   "execution_count": 44,
   "id": "1c1a799c",
   "metadata": {},
   "outputs": [
    {
     "name": "stdout",
     "output_type": "stream",
     "text": [
      "isdigit() Function:  False\n",
      "isalpha() Function:  False\n",
      "isalnum() Function:  True\n"
     ]
    }
   ],
   "source": [
    "a = \"Python3\"\n",
    "\n",
    "print(\"isdigit() Function: \", a.isdigit())\n",
    "print(\"isalpha() Function: \", a.isalpha())\n",
    "print(\"isalnum() Function: \", a.isalnum())\n"
   ]
  },
  {
   "cell_type": "markdown",
   "id": "10fba24f",
   "metadata": {},
   "source": [
    "# is - elif - else"
   ]
  },
  {
   "cell_type": "code",
   "execution_count": 47,
   "id": "a5eaa6a7",
   "metadata": {},
   "outputs": [
    {
     "name": "stdout",
     "output_type": "stream",
     "text": [
      "x is less than 5\n"
     ]
    }
   ],
   "source": [
    "x = 4\n",
    "\n",
    "if x > 5:\n",
    "    print(\"x is greater than 5\")\n",
    "elif x == 5 :\n",
    "    print(\"x is equal to 5\")\n",
    "else:\n",
    "    print(\"x is less than 5\")"
   ]
  },
  {
   "cell_type": "code",
   "execution_count": 49,
   "id": "ad2e80fe",
   "metadata": {},
   "outputs": [
    {
     "data": {
      "text/plain": [
       "False"
      ]
     },
     "execution_count": 49,
     "metadata": {},
     "output_type": "execute_result"
    }
   ],
   "source": [
    "x == 5"
   ]
  },
  {
   "cell_type": "markdown",
   "id": "f0c54d2a",
   "metadata": {},
   "source": [
    "# Nested Conditional Statements"
   ]
  },
  {
   "cell_type": "code",
   "execution_count": 50,
   "id": "71719135",
   "metadata": {},
   "outputs": [
    {
     "name": "stdout",
     "output_type": "stream",
     "text": [
      "x is greater than 5\n",
      "y is less than 10\n",
      "x is greater than 4\n"
     ]
    }
   ],
   "source": [
    "x = 10\n",
    "y = 5\n",
    "\n",
    "if x > 5:\n",
    "    print(\"x is greater than 5\")\n",
    "    if y < 10:\n",
    "        print(\"y is less than 10\")\n",
    "        \n",
    "        if x > 4:\n",
    "            print(\"x is greater than 4\")\n",
    "        else:\n",
    "            print(\"1212\")\n",
    "    elif x < 4:\n",
    "        print(\"jjk\")\n",
    "    else:\n",
    "        print(\"x is greater than 4 \")\n",
    "\n",
    "else:\n",
    "    print(\"x is not greater than 5\")"
   ]
  },
  {
   "cell_type": "markdown",
   "id": "81494ac1",
   "metadata": {},
   "source": [
    "# Input Function"
   ]
  },
  {
   "cell_type": "code",
   "execution_count": 55,
   "id": "edb0b324",
   "metadata": {},
   "outputs": [
    {
     "name": "stdout",
     "output_type": "stream",
     "text": [
      "Hello, Sobia Alamgir ! Welcome to the programe.\n",
      "<class 'str'>\n"
     ]
    }
   ],
   "source": [
    "name = input(\"Enter yout name:\") # By default, input function return string\n",
    "\n",
    "print(\"Hello,\", name , \"! Welcome to the programe.\")\n",
    "print(type(name))"
   ]
  },
  {
   "cell_type": "markdown",
   "id": "cbc59c6e",
   "metadata": {},
   "source": [
    "# Loops in Python\n",
    "\n",
    "* For Loop: When number of iteration is known\n",
    "* While loop: When number of iteration is not known"
   ]
  },
  {
   "cell_type": "code",
   "execution_count": 59,
   "id": "a62d6a5b",
   "metadata": {},
   "outputs": [
    {
     "name": "stdout",
     "output_type": "stream",
     "text": [
      "Count is: 1\n",
      "Count is: 2\n",
      "Count is: 3\n",
      "Count is: 4\n",
      "Count is: 5\n",
      "Loop Ended\n"
     ]
    }
   ],
   "source": [
    "count = 0\n",
    "\n",
    "while count < 5:\n",
    "    count = count + 1\n",
    "\n",
    "    # count += 1    Both are same\n",
    "    print(\"Count is:\", count)\n",
    "\n",
    "print(\"Loop Ended\")"
   ]
  },
  {
   "cell_type": "markdown",
   "id": "1533dda8",
   "metadata": {},
   "source": [
    "# Lists, Tuples, Sets, Dictionaries: Builtin Data Structures in Python for various purposes"
   ]
  },
  {
   "cell_type": "markdown",
   "id": "efec9806",
   "metadata": {},
   "source": [
    "* ### List are Mutable, ordered collections in Python, that contain elements of different datatypes"
   ]
  },
  {
   "cell_type": "code",
   "execution_count": null,
   "id": "6964e83f",
   "metadata": {},
   "outputs": [
    {
     "name": "stdout",
     "output_type": "stream",
     "text": [
      "3 <class 'list'>\n"
     ]
    }
   ],
   "source": [
    "numbers = [1,2, 'sobia',3,[4,8, [2,3,4,5],16] , 4,5, True, 0.06]\n",
    "print (numbers[4][2][1], type(numbers))"
   ]
  },
  {
   "cell_type": "code",
   "execution_count": null,
   "id": "0296d0bb",
   "metadata": {},
   "outputs": [
    {
     "name": "stdout",
     "output_type": "stream",
     "text": [
      "[1, 2, 3, 34]\n"
     ]
    }
   ],
   "source": [
    "n_list = [1,2,3,4] # We can update the list just by index\n",
    "\n",
    "n_list[3] = 34\n",
    "print(n_list)"
   ]
  },
  {
   "cell_type": "code",
   "execution_count": 76,
   "id": "82b04d2f",
   "metadata": {},
   "outputs": [
    {
     "name": "stdout",
     "output_type": "stream",
     "text": [
      "['Python', 'is', 'easy', 'and', 'fun', '223']\n"
     ]
    }
   ],
   "source": [
    "sentence = \"Python is easy and fun 223\"\n",
    "\n",
    "words = sentence.split(\" \")\n",
    "print(words)"
   ]
  },
  {
   "cell_type": "code",
   "execution_count": 78,
   "id": "59008499",
   "metadata": {},
   "outputs": [
    {
     "name": "stdout",
     "output_type": "stream",
     "text": [
      "Python is easy and fun 223\n"
     ]
    }
   ],
   "source": [
    "# Now join the list into string\n",
    "\n",
    "joined_string = ' '.join(words)\n",
    "print(joined_string)"
   ]
  },
  {
   "cell_type": "code",
   "execution_count": 106,
   "id": "2378b653",
   "metadata": {},
   "outputs": [
    {
     "name": "stdout",
     "output_type": "stream",
     "text": [
      "['Sobia', 'you', 'will', 'become', 'a', 'Data', 'Scientist', 'by', 'the', 'grace', 'of', 'Allah', 'inshaAllah.']\n",
      "Sobia you will become a Data Scientist by the grace of Allah inshaAllah.\n"
     ]
    }
   ],
   "source": [
    "sentence = \"Sobia you will become a Data Scientist by the grace of Allah inshaAllah.\"\n",
    "\n",
    "split_sentence = sentence.split(\" \")\n",
    "print(split_sentence)\n",
    "\n",
    "join_sentence = ' '.join(split_sentence)\n",
    "print(join_sentence)"
   ]
  },
  {
   "cell_type": "markdown",
   "id": "c8908877",
   "metadata": {},
   "source": [
    "# Tuples\n",
    "\n",
    "* Immutable: can not change values\n",
    "* Defined using parentheses ( )"
   ]
  },
  {
   "cell_type": "code",
   "execution_count": 87,
   "id": "641eef78",
   "metadata": {},
   "outputs": [
    {
     "name": "stdout",
     "output_type": "stream",
     "text": [
      "('Orange', 'Mango', 'Cherry', 'Banana', 'Apple')\n"
     ]
    }
   ],
   "source": [
    "fruit_tuples = (\"Apple\", \"Banana\" , \"Cherry\" , \"Mango\" , \"Orange\")\n",
    "\n",
    "print(fruit_tuples[::-1])"
   ]
  },
  {
   "cell_type": "markdown",
   "id": "7163fee4",
   "metadata": {},
   "source": [
    "# Common List Operations"
   ]
  },
  {
   "cell_type": "code",
   "execution_count": 89,
   "id": "f79b603b",
   "metadata": {},
   "outputs": [
    {
     "name": "stdout",
     "output_type": "stream",
     "text": [
      "After append: [44, 66, 77, 10]\n"
     ]
    }
   ],
   "source": [
    "my_list = [44,66,77]\n",
    "my_list.append(10)\n",
    "print(\"After append:\", my_list)"
   ]
  },
  {
   "cell_type": "markdown",
   "id": "39450dce",
   "metadata": {},
   "source": [
    "* We can also define a empty list, to store value"
   ]
  },
  {
   "cell_type": "markdown",
   "id": "9ea9777e",
   "metadata": {},
   "source": [
    "* **Append Function in List**"
   ]
  },
  {
   "cell_type": "code",
   "execution_count": 91,
   "id": "53dcfedb",
   "metadata": {},
   "outputs": [
    {
     "name": "stdout",
     "output_type": "stream",
     "text": [
      "['Sobia', 'Sobia', 'Sobia', 'Sobia', 'Sobia']\n"
     ]
    }
   ],
   "source": [
    "l = []\n",
    "for i in range(5):\n",
    "    l.append(\"Sobia\")\n",
    "\n",
    "print(l)"
   ]
  },
  {
   "cell_type": "code",
   "execution_count": 95,
   "id": "c8ca687c",
   "metadata": {},
   "outputs": [
    {
     "name": "stdout",
     "output_type": "stream",
     "text": [
      "11\n",
      "22\n",
      "33\n",
      "44\n",
      "55\n"
     ]
    }
   ],
   "source": [
    "my_lists = [11,22,33,44,55]\n",
    "\n",
    "for i in my_lists:\n",
    "    print(i)"
   ]
  },
  {
   "cell_type": "markdown",
   "id": "d0920996",
   "metadata": {},
   "source": [
    "* **Extend Function in List**"
   ]
  },
  {
   "cell_type": "code",
   "execution_count": 97,
   "id": "5db19ec4",
   "metadata": {},
   "outputs": [
    {
     "name": "stdout",
     "output_type": "stream",
     "text": [
      "After extend:  [1, 2, 3, 4, 5, 6, 7, 8, 9, 10]\n",
      "NO change in list2: [6, 7, 8, 9, 10]\n"
     ]
    }
   ],
   "source": [
    "list1 = [1,2,3,4,5]\n",
    "list2 = [6,7,8,9,10]\n",
    "list1.extend(list2)\n",
    "print(\"After extend: \", list1)\n",
    "print(\"NO change in list2:\", list2)"
   ]
  },
  {
   "cell_type": "markdown",
   "id": "bc260847",
   "metadata": {},
   "source": [
    "* **Insert Function in List**"
   ]
  },
  {
   "cell_type": "code",
   "execution_count": null,
   "id": "0d269927",
   "metadata": {},
   "outputs": [
    {
     "name": "stdout",
     "output_type": "stream",
     "text": [
      "[23, 100, 24, 3]\n"
     ]
    }
   ],
   "source": [
    "my_list = [23,24,3]\n",
    "my_list.insert(1,100) # Insert 100 at index 1\n",
    "print(my_list)"
   ]
  },
  {
   "cell_type": "markdown",
   "id": "d7838d9c",
   "metadata": {},
   "source": [
    "* **Remove Function in List**"
   ]
  },
  {
   "cell_type": "code",
   "execution_count": 101,
   "id": "e6adb5eb",
   "metadata": {},
   "outputs": [
    {
     "name": "stdout",
     "output_type": "stream",
     "text": [
      "After Removal:  [11, 33, 44, 55, 22]\n"
     ]
    }
   ],
   "source": [
    "my_list = [11,22,33,44,55, 22]\n",
    "my_list.remove(22) # Remove first occurrence of 22\n",
    "print(\"After Removal: \", my_list)"
   ]
  },
  {
   "cell_type": "markdown",
   "id": "46491306",
   "metadata": {},
   "source": [
    "* **pop() Function in List**\n",
    "  - Removes & return the elements at a specified index\n",
    "  - If no index is provided, it removes and returns the last element"
   ]
  },
  {
   "cell_type": "code",
   "execution_count": 115,
   "id": "6be0dd9f",
   "metadata": {},
   "outputs": [
    {
     "name": "stdout",
     "output_type": "stream",
     "text": [
      "Popped item:  64\n",
      "After pop:  [45, 56, 74, 85, 99, 32]\n"
     ]
    }
   ],
   "source": [
    "list1 = [45,56,64,74,85,99,32]\n",
    "popped_item = list1.pop(2)\n",
    "\n",
    "print(\"Popped item: \", popped_item)\n",
    "print(\"After pop: \", list1)"
   ]
  },
  {
   "cell_type": "code",
   "execution_count": 116,
   "id": "3620ca5f",
   "metadata": {},
   "outputs": [
    {
     "name": "stdout",
     "output_type": "stream",
     "text": [
      "After remove:  [45, 74, 85, 99, 32]\n"
     ]
    }
   ],
   "source": [
    "list1.remove(56)\n",
    "print(\"After remove: \", list1)"
   ]
  },
  {
   "cell_type": "code",
   "execution_count": 119,
   "id": "a2d267be",
   "metadata": {},
   "outputs": [
    {
     "name": "stdout",
     "output_type": "stream",
     "text": [
      "After delete:  [45, 56, 85, 99, 32]\n"
     ]
    }
   ],
   "source": [
    "list1 = [45, 56, 74, 85, 99, 32]\n",
    "del list1[2]\n",
    "print(\"After delete: \", list1)"
   ]
  },
  {
   "cell_type": "markdown",
   "id": "c61a29b1",
   "metadata": {},
   "source": [
    "* **Membership Function ' in '**"
   ]
  },
  {
   "cell_type": "code",
   "execution_count": 123,
   "id": "b089e5e5",
   "metadata": {},
   "outputs": [
    {
     "name": "stdout",
     "output_type": "stream",
     "text": [
      "Present\n",
      "33\n"
     ]
    }
   ],
   "source": [
    "my_list = [11,22,33,44,99,55]\n",
    "\n",
    "if 99 in my_list:\n",
    "    print(\"Present\")\n",
    "else:\n",
    "    print(\"Not Present\")\n",
    "\n",
    "for i in my_list:\n",
    "    if i == 33:\n",
    "        print(i)"
   ]
  },
  {
   "cell_type": "code",
   "execution_count": 127,
   "id": "7589f497",
   "metadata": {},
   "outputs": [
    {
     "name": "stdout",
     "output_type": "stream",
     "text": [
      "After reverse:  [5, 4, 3, 2, 1]\n",
      "Reversed list using indexing:  [1, 2, 3, 4, 5]\n"
     ]
    }
   ],
   "source": [
    "my_list = [1,2,3,4,5]\n",
    "my_list.reverse()\n",
    "print(\"After reverse: \", my_list)\n",
    "print(\"Reversed list using indexing: \", my_list[::-1])"
   ]
  },
  {
   "cell_type": "code",
   "execution_count": 129,
   "id": "23a9d6a6",
   "metadata": {},
   "outputs": [
    {
     "name": "stdout",
     "output_type": "stream",
     "text": [
      "Count of 2:  4\n"
     ]
    }
   ],
   "source": [
    "another_list = [2,3,4,5,3,2,4,2,2,4,3,7,8,9]\n",
    "another_list.count(2)\n",
    "print(\"Count of 2: \", another_list.count(2))"
   ]
  },
  {
   "cell_type": "markdown",
   "id": "844a46be",
   "metadata": {},
   "source": [
    "* **AND and OR LOGIC**"
   ]
  },
  {
   "cell_type": "code",
   "execution_count": null,
   "id": "ea430c72",
   "metadata": {},
   "outputs": [
    {
     "name": "stdout",
     "output_type": "stream",
     "text": [
      "if ran\n"
     ]
    }
   ],
   "source": [
    "color = \"red\"\n",
    "\n",
    "if color == \"red\" or color == \"blue\":\n",
    "    print(\"if ran\")\n",
    "else:\n",
    "    print(\"else ran\")"
   ]
  },
  {
   "cell_type": "code",
   "execution_count": 131,
   "id": "ab3c9cc7",
   "metadata": {},
   "outputs": [
    {
     "data": {
      "text/plain": [
       "True"
      ]
     },
     "execution_count": 131,
     "metadata": {},
     "output_type": "execute_result"
    }
   ],
   "source": [
    "color == \"red\" or color == \"blue\""
   ]
  },
  {
   "cell_type": "code",
   "execution_count": 133,
   "id": "2493d0c8",
   "metadata": {},
   "outputs": [
    {
     "name": "stdout",
     "output_type": "stream",
     "text": [
      "5\n",
      "6\n"
     ]
    }
   ],
   "source": [
    "for i in range(5,10):\n",
    "    if i == 7:\n",
    "        break\n",
    "    print(i)"
   ]
  },
  {
   "cell_type": "code",
   "execution_count": 136,
   "id": "0e7223f5",
   "metadata": {},
   "outputs": [
    {
     "name": "stdout",
     "output_type": "stream",
     "text": [
      "5\n",
      "6\n",
      "8\n",
      "9\n"
     ]
    }
   ],
   "source": [
    "for i in range(5,10):\n",
    "    if i == 7:\n",
    "        continue\n",
    "    print(i)"
   ]
  },
  {
   "cell_type": "code",
   "execution_count": 140,
   "id": "ee094c8a",
   "metadata": {},
   "outputs": [
    {
     "name": "stdout",
     "output_type": "stream",
     "text": [
      "[5, 6, 7, 8, 9]\n"
     ]
    }
   ],
   "source": [
    "num = [1,2,3,4,5,6,7,8,9,10]\n",
    "slicing = num[4:-1]\n",
    "print(slicing)"
   ]
  },
  {
   "cell_type": "markdown",
   "id": "16f40790",
   "metadata": {},
   "source": [
    "# Dictionary"
   ]
  },
  {
   "cell_type": "code",
   "execution_count": 142,
   "id": "61dbe273",
   "metadata": {},
   "outputs": [
    {
     "name": "stdout",
     "output_type": "stream",
     "text": [
      "Sobia\n",
      "37\n",
      "1.4\n",
      "CS101\n",
      "<class 'dict'>\n"
     ]
    }
   ],
   "source": [
    "student_info = {'name':'Sobia',\n",
    "                'age': 37,\n",
    "                'grade':[1.2,1.4],\n",
    "                'course':{'name':'Python', 'code':'CS101'}}\n",
    "\n",
    "\n",
    "print(student_info['name'])\n",
    "print(student_info['age'])\n",
    "print(student_info['grade'][1])\n",
    "print(student_info['course']['code'])\n",
    "\n",
    "print(type(student_info))\n"
   ]
  },
  {
   "cell_type": "code",
   "execution_count": 145,
   "id": "129b7576",
   "metadata": {},
   "outputs": [
    {
     "name": "stdout",
     "output_type": "stream",
     "text": [
      "{'name': 'Sobia', 'age': 37, 'grade': [1.2, 1.4], 'course': {'name': 'Python', 'code': 'CS101'}, 'city': 42}\n"
     ]
    }
   ],
   "source": [
    "student_info['city']=42\n",
    "print(student_info)"
   ]
  },
  {
   "cell_type": "code",
   "execution_count": 152,
   "id": "41e27f5e",
   "metadata": {},
   "outputs": [
    {
     "name": "stdout",
     "output_type": "stream",
     "text": [
      "{'name': 'Sobia', 'grade': [1.2, 1.4], 'course': {'name': 'Python', 'code': 'CS101'}, 'city': 'Winnipeg', 'Marks': 100, 'age': 37}\n"
     ]
    }
   ],
   "source": [
    "additional_info = {'age':37,'city':'Winnipeg', 'Marks':100}\n",
    "student_info.update(additional_info)\n",
    "print(student_info)"
   ]
  },
  {
   "cell_type": "code",
   "execution_count": 153,
   "id": "72167c16",
   "metadata": {},
   "outputs": [
    {
     "name": "stdout",
     "output_type": "stream",
     "text": [
      "Removed Age:  37\n",
      "{'name': 'Sobia', 'grade': [1.2, 1.4], 'course': {'name': 'Python', 'code': 'CS101'}, 'city': 'Winnipeg', 'Marks': 100}\n"
     ]
    }
   ],
   "source": [
    "remove_age = student_info.pop('age')\n",
    "print(\"Removed Age: \", remove_age)\n",
    "print(student_info)"
   ]
  },
  {
   "cell_type": "code",
   "execution_count": 154,
   "id": "fa46122c",
   "metadata": {},
   "outputs": [
    {
     "data": {
      "text/plain": [
       "{'name': 'Sobia',\n",
       " 'grade': [1.2, 1.4],\n",
       " 'course': {'name': 'Python', 'code': 'CS101'},\n",
       " 'city': 'Winnipeg',\n",
       " 'Marks': 100}"
      ]
     },
     "execution_count": 154,
     "metadata": {},
     "output_type": "execute_result"
    }
   ],
   "source": [
    "student_info"
   ]
  },
  {
   "cell_type": "code",
   "execution_count": 155,
   "id": "05a6ca66",
   "metadata": {},
   "outputs": [
    {
     "name": "stdout",
     "output_type": "stream",
     "text": [
      "Is age present:  False\n"
     ]
    }
   ],
   "source": [
    "is_age_present = 'age' in student_info\n",
    "print(\"Is age present: \", is_age_present)"
   ]
  },
  {
   "cell_type": "code",
   "execution_count": null,
   "id": "f67ae6d6",
   "metadata": {},
   "outputs": [
    {
     "name": "stdout",
     "output_type": "stream",
     "text": [
      "Keys:  dict_keys(['name', 'grade', 'course', 'city', 'Marks']) <class 'dict_keys'>\n",
      "Values:  dict_values(['Sobia', [1.2, 1.4], {'name': 'Python', 'code': 'CS101'}, 'Winnipeg', 100]) <class 'dict_values'>\n",
      "Keys in Dictionary: /n ['name', 'grade', 'course', 'city', 'Marks']\n"
     ]
    }
   ],
   "source": [
    "keys = student_info.keys()\n",
    "print(\"Keys: \", keys, type(keys))\n",
    "\n",
    "values = student_info.values()\n",
    "print(\"Values: \", values, type(values))\n"
   ]
  },
  {
   "cell_type": "code",
   "execution_count": 162,
   "id": "ca44df13",
   "metadata": {},
   "outputs": [
    {
     "name": "stdout",
     "output_type": "stream",
     "text": [
      "Keys in Dictionary: \n",
      " ['name', 'grade', 'course', 'city', 'Marks']\n",
      "Values in Dictionary: \n",
      " ['Sobia', [1.2, 1.4], {'name': 'Python', 'code': 'CS101'}, 'Winnipeg', 100]\n"
     ]
    }
   ],
   "source": [
    "print(\"Keys in Dictionary: \\n\",list(keys))\n",
    "print(\"Values in Dictionary: \\n\",list(values))"
   ]
  },
  {
   "cell_type": "code",
   "execution_count": 168,
   "id": "4c4b5b94",
   "metadata": {},
   "outputs": [
    {
     "name": "stdout",
     "output_type": "stream",
     "text": [
      "Keys:  name \t\tValues:  Sobia\n",
      "Keys:  grade \t\tValues:  [1.2, 1.4]\n",
      "Keys:  course \t\tValues:  {'name': 'Python', 'code': 'CS101'}\n",
      "Keys:  city \t\tValues:  Winnipeg\n",
      "Keys:  Marks \t\tValues:  100\n"
     ]
    }
   ],
   "source": [
    "for k,v in student_info.items():\n",
    "    print(\"Keys: \",k,\"\\t\\tValues: \",v)"
   ]
  },
  {
   "cell_type": "code",
   "execution_count": 174,
   "id": "6f12f592",
   "metadata": {},
   "outputs": [
    {
     "name": "stdout",
     "output_type": "stream",
     "text": [
      "[('name', 'Alice'), ('grade', 'A'), ('age', 22)] <class 'list'>\n",
      "{'name': 'Alice', 'grade': 'A', 'age': 22} <class 'dict'>\n"
     ]
    }
   ],
   "source": [
    "student_info = {'name':'Alice', 'age':22 , 'grade':'A'}\n",
    "sorted_dict = sorted(student_info.items(), reverse = True)\n",
    "print(sorted_dict, type(sorted_dict))   # Returns List\n",
    "sorted_dict = dict(sorted_dict)\n",
    "print(sorted_dict, type(sorted_dict))"
   ]
  },
  {
   "cell_type": "code",
   "execution_count": 181,
   "id": "64b88ad7",
   "metadata": {},
   "outputs": [
    {
     "data": {
      "text/plain": [
       "34"
      ]
     },
     "execution_count": 181,
     "metadata": {},
     "output_type": "execute_result"
    }
   ],
   "source": [
    "nested_dict = {'person':{'name':'Alice','age':22,'city':[45,56,[34,90]]}}\n",
    "nested_dict['person']['city'][2][0]"
   ]
  },
  {
   "cell_type": "code",
   "execution_count": 183,
   "id": "e9ea926b",
   "metadata": {},
   "outputs": [
    {
     "name": "stdout",
     "output_type": "stream",
     "text": [
      "24 is even\n"
     ]
    }
   ],
   "source": [
    "number = 24\n",
    "if number % 2 ==0:\n",
    "    print(number, \"is even\")\n",
    "else:\n",
    "    print(number, \"is odd\")"
   ]
  },
  {
   "cell_type": "code",
   "execution_count": 189,
   "id": "31e855dd",
   "metadata": {},
   "outputs": [
    {
     "data": {
      "text/plain": [
       "1"
      ]
     },
     "execution_count": 189,
     "metadata": {},
     "output_type": "execute_result"
    }
   ],
   "source": [
    "arr_3d = [\n",
    "    [[1,2,3],[4,5,6]],\n",
    "    [[7,8,9],[10,11,12]]\n",
    "]\n",
    "\n",
    "arr_3d[0][0][0]"
   ]
  },
  {
   "cell_type": "code",
   "execution_count": 206,
   "id": "7f525915",
   "metadata": {},
   "outputs": [
    {
     "name": "stdout",
     "output_type": "stream",
     "text": [
      "2 2\n",
      "6 4\n",
      "12 6\n",
      "12\n"
     ]
    }
   ],
   "source": [
    "list_1 = [2,4,6,8,10]\n",
    "total=0\n",
    "for i in list_1[:3]:\n",
    "    total = total + i\n",
    "    print(total,i)\n",
    "print(total)"
   ]
  },
  {
   "cell_type": "code",
   "execution_count": 213,
   "id": "54d06d55",
   "metadata": {},
   "outputs": [
    {
     "name": "stdout",
     "output_type": "stream",
     "text": [
      "0 2\n",
      "1 4\n",
      "2 6\n",
      "3 8\n",
      "4 10\n",
      "30\n"
     ]
    }
   ],
   "source": [
    "list_1 = [2,4,6,8,10]\n",
    "otal = 0\n",
    "for i in range(len(list_1)):\n",
    "    print(i,list_1[i])\n",
    "    total = total + list_1[i]\n",
    "print(total)\n"
   ]
  },
  {
   "cell_type": "code",
   "execution_count": 219,
   "id": "f09722f9",
   "metadata": {},
   "outputs": [
    {
     "name": "stdout",
     "output_type": "stream",
     "text": [
      "Cherry\n",
      "Cat\n",
      "charlie\n"
     ]
    }
   ],
   "source": [
    "fruits = [\"Apple\", \"Banana\", \"Cherry\", \"Cat\", \"bed\", \"charlie\"]\n",
    "\n",
    "for i in fruits:\n",
    "    if i.startswith(\"C\") or i.startswith(\"c\"):\n",
    "        print(i)"
   ]
  },
  {
   "cell_type": "code",
   "execution_count": 223,
   "id": "7e2ad380",
   "metadata": {},
   "outputs": [
    {
     "name": "stdout",
     "output_type": "stream",
     "text": [
      "CHERRY\n",
      "CAT\n",
      "CHARLIE\n"
     ]
    }
   ],
   "source": [
    "fruits = [\"Apple\", \"Banana\", \"Cherry\", \"Cat\", \"bed\", \"charlie\"]\n",
    "\n",
    "for i in fruits:\n",
    "    i = i.upper()\n",
    "    if i.startswith(\"C\"):\n",
    "        print(i)"
   ]
  },
  {
   "cell_type": "code",
   "execution_count": 217,
   "id": "77e4231d",
   "metadata": {},
   "outputs": [
    {
     "name": "stdout",
     "output_type": "stream",
     "text": [
      "Cherry\n",
      "Cat\n",
      "charlie\n"
     ]
    }
   ],
   "source": [
    "fruits = [\"Apple\", \"Banana\", \"Cherry\", \"Cat\", \"bed\", \"charlie\"]\n",
    "\n",
    "for i in fruits:\n",
    "    if i[0] in \"Cc\":\n",
    "        print(i)"
   ]
  },
  {
   "cell_type": "code",
   "execution_count": null,
   "id": "86fac6ea",
   "metadata": {},
   "outputs": [],
   "source": []
  }
 ],
 "metadata": {
  "kernelspec": {
   "display_name": "Python 3",
   "language": "python",
   "name": "python3"
  },
  "language_info": {
   "codemirror_mode": {
    "name": "ipython",
    "version": 3
   },
   "file_extension": ".py",
   "mimetype": "text/x-python",
   "name": "python",
   "nbconvert_exporter": "python",
   "pygments_lexer": "ipython3",
   "version": "3.12.3"
  }
 },
 "nbformat": 4,
 "nbformat_minor": 5
}
