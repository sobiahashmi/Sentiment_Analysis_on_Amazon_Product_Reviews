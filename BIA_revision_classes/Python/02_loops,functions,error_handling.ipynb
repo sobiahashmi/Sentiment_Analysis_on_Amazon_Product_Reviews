{
 "cells": [
  {
   "cell_type": "markdown",
   "id": "db7523cb",
   "metadata": {},
   "source": [
    "# Functions"
   ]
  },
  {
   "cell_type": "code",
   "execution_count": 1,
   "id": "d79a1ae5",
   "metadata": {},
   "outputs": [
    {
     "name": "stdout",
     "output_type": "stream",
     "text": [
      "45 -9 36\n"
     ]
    }
   ],
   "source": [
    "def square (x,y,z):\n",
    "    x = x+2\n",
    "    y = y-10\n",
    "    z = x+y\n",
    "\n",
    "    return x,y,z\n",
    "\n",
    "result,a,b = square(43,1,2)\n",
    "print(result,a,b)"
   ]
  },
  {
   "cell_type": "code",
   "execution_count": 2,
   "id": "d51a1e62",
   "metadata": {},
   "outputs": [
    {
     "name": "stdout",
     "output_type": "stream",
     "text": [
      "50\n"
     ]
    }
   ],
   "source": [
    "def mul_by_5(x):\n",
    "    x = x * 5\n",
    "    return x\n",
    "\n",
    "value = mul_by_5(10)\n",
    "print(value)"
   ]
  },
  {
   "cell_type": "code",
   "execution_count": null,
   "id": "73797c12",
   "metadata": {},
   "outputs": [
    {
     "name": "stdout",
     "output_type": "stream",
     "text": [
      "['s', 'o', 'b', 'i', 'a']\n",
      "s o b i a\n"
     ]
    }
   ],
   "source": [
    "a = 's o b i a'\n",
    "str_split = a.split(' ')\n",
    "print(str_split) #split the string into a list of words\n",
    "print(\" \".join(str_split))"
   ]
  },
  {
   "cell_type": "code",
   "execution_count": 16,
   "id": "7ca06213",
   "metadata": {},
   "outputs": [
    {
     "name": "stdout",
     "output_type": "stream",
     "text": [
      "s\n",
      "a\n",
      "['a', 'i', 'b', 'o', 's']\n"
     ]
    }
   ],
   "source": [
    "print(str_split[0])\n",
    "print(str_split[-1])\n",
    "print(str_split[::-1])"
   ]
  },
  {
   "cell_type": "code",
   "execution_count": 18,
   "id": "4e8bf725",
   "metadata": {},
   "outputs": [
    {
     "name": "stdout",
     "output_type": "stream",
     "text": [
      "50\n"
     ]
    }
   ],
   "source": [
    "def multiply(x):\n",
    "    x = x*5\n",
    "    return x\n",
    "\n",
    "value = multiply(10)\n",
    "print(value)"
   ]
  },
  {
   "cell_type": "code",
   "execution_count": 19,
   "id": "cbaf46de",
   "metadata": {},
   "outputs": [
    {
     "name": "stdout",
     "output_type": "stream",
     "text": [
      "30\n"
     ]
    }
   ],
   "source": [
    "def sum(a,b):\n",
    "    return a+b\n",
    "\n",
    "answer = sum(5,25)\n",
    "print(answer)"
   ]
  },
  {
   "cell_type": "code",
   "execution_count": 23,
   "id": "a0fc557e",
   "metadata": {},
   "outputs": [
    {
     "name": "stdout",
     "output_type": "stream",
     "text": [
      "Hello, Sobia! How are you today?\n"
     ]
    }
   ],
   "source": [
    "def greet(name):\n",
    "    \"\"\"This greets a person by name.\"\"\"\n",
    "    return \"Hello, \" + name + \"! How are you today?\"\n",
    "\n",
    "print(greet(\"Sobia\"))"
   ]
  },
  {
   "cell_type": "code",
   "execution_count": 29,
   "id": "3a31ef5c",
   "metadata": {},
   "outputs": [
    {
     "name": "stdout",
     "output_type": "stream",
     "text": [
      "Hello Alice\n",
      "Hi Bob\n",
      "Hello Charlie\n",
      "Hello Sobia\n",
      "Hey Dawoud\n"
     ]
    }
   ],
   "source": [
    "def greet(name = \"Sobia\", greeting = \"Hello\"):\n",
    "    \"\"\"This greets a person by name.\"\"\"\n",
    "    print(greeting,name)\n",
    "\n",
    "greet(\"Alice\")\n",
    "greet(\"Bob\", \"Hi\")\n",
    "greet(\"Charlie\")\n",
    "greet()\n",
    "greet(name = \"Dawoud\", greeting = \"Hey\")"
   ]
  },
  {
   "cell_type": "code",
   "execution_count": 34,
   "id": "301b1df3",
   "metadata": {},
   "outputs": [
    {
     "name": "stdout",
     "output_type": "stream",
     "text": [
      "Area:  6\n",
      "Area multiplied by 5:  30\n",
      "(6, 30)\n"
     ]
    }
   ],
   "source": [
    "def calculate_area(length,width):\n",
    "    area = length * width\n",
    "    answer = multiply(area)\n",
    "    print(\"Area: \", area)\n",
    "    print(\"Area multiplied by 5: \", answer)\n",
    "    return area,answer\n",
    "\n",
    "print(calculate_area(2,3))\n"
   ]
  },
  {
   "cell_type": "code",
   "execution_count": 42,
   "id": "11e53701",
   "metadata": {},
   "outputs": [
    {
     "name": "stdout",
     "output_type": "stream",
     "text": [
      "-5 is Negative\n"
     ]
    }
   ],
   "source": [
    "def check_num(n):\n",
    "    if n > 0:\n",
    "        return str(n) + \" is Positive\"\n",
    "    elif n < 0:\n",
    "        return str(n) + \" is Negative\"\n",
    "    else:\n",
    "        return \"Zero\"\n",
    "    \n",
    "result = check_num(-5)\n",
    "print(result)"
   ]
  },
  {
   "cell_type": "code",
   "execution_count": 43,
   "id": "cb205d10",
   "metadata": {},
   "outputs": [
    {
     "name": "stdout",
     "output_type": "stream",
     "text": [
      "15\n"
     ]
    }
   ],
   "source": [
    "add = lambda x,y: x+y\n",
    "print(add(5,10))"
   ]
  },
  {
   "cell_type": "code",
   "execution_count": 45,
   "id": "ecc7d63c",
   "metadata": {},
   "outputs": [
    {
     "name": "stdout",
     "output_type": "stream",
     "text": [
      "16\n"
     ]
    }
   ],
   "source": [
    "square = lambda x: x*x\n",
    "print(square(4))"
   ]
  },
  {
   "cell_type": "code",
   "execution_count": 47,
   "id": "ae6b284d",
   "metadata": {},
   "outputs": [
    {
     "name": "stdout",
     "output_type": "stream",
     "text": [
      "False\n"
     ]
    }
   ],
   "source": [
    "is_even = lambda x: x%2 == 0\n",
    "print(is_even(5))"
   ]
  },
  {
   "cell_type": "code",
   "execution_count": 58,
   "id": "ea98898e",
   "metadata": {},
   "outputs": [
    {
     "name": "stdout",
     "output_type": "stream",
     "text": [
      "Maximum value in Dictionary {'a': 10, 'b': 15, 'c': 70, 'd': 100} is \t100\n"
     ]
    }
   ],
   "source": [
    "d = {\"a\":10 , \"b\":15 , \"c\":70 , \"d\":100}\n",
    "\n",
    "def extract(d):\n",
    "    max_value = max(d.values())\n",
    "    return \"Maximum value in Dictionary \" + str(d) +\" is \\t\" + str(max_value)\n",
    "\n",
    "print(extract(d))"
   ]
  },
  {
   "cell_type": "code",
   "execution_count": 61,
   "id": "fd2cd4c1",
   "metadata": {},
   "outputs": [
    {
     "name": "stdout",
     "output_type": "stream",
     "text": [
      "24\n"
     ]
    }
   ],
   "source": [
    "def factorial(n):\n",
    "    if n==0:\n",
    "        return 1\n",
    "    else:\n",
    "        return n * factorial(n-1)\n",
    "\n",
    "result = factorial(4)\n",
    "print(result)"
   ]
  },
  {
   "cell_type": "code",
   "execution_count": 73,
   "id": "fa3c4be6",
   "metadata": {},
   "outputs": [
    {
     "name": "stdout",
     "output_type": "stream",
     "text": [
      "[2, 3, 4, 5, 1]\n"
     ]
    }
   ],
   "source": [
    "lis = [1,2,3,4,5]\n",
    "\n",
    "def rotated_list(lis,r):\n",
    "    result = lis[-r:] + lis[:-r]\n",
    "    return result\n",
    "\n",
    "print(rotated_list(lis,4))\n"
   ]
  },
  {
   "cell_type": "code",
   "execution_count": 72,
   "id": "f17ca864",
   "metadata": {},
   "outputs": [
    {
     "data": {
      "text/plain": [
       "([4, 5], [1, 2, 3])"
      ]
     },
     "execution_count": 72,
     "metadata": {},
     "output_type": "execute_result"
    }
   ],
   "source": [
    "lis[-2:], lis[:-2]"
   ]
  },
  {
   "cell_type": "code",
   "execution_count": 5,
   "id": "4c17daa8",
   "metadata": {},
   "outputs": [
    {
     "name": "stdout",
     "output_type": "stream",
     "text": [
      "Square of 6: 36\n"
     ]
    }
   ],
   "source": [
    "# Write a function that takes a number and returns its square.\n",
    "\n",
    "def square(x):\n",
    "    result = x*x\n",
    "    print(\"Square of \" + str(x) + \":\", result)\n",
    "    \n",
    "\n",
    "square(6)\n"
   ]
  },
  {
   "cell_type": "code",
   "execution_count": 15,
   "id": "a0fe3134",
   "metadata": {},
   "outputs": [
    {
     "data": {
      "text/plain": [
       "'Even'"
      ]
     },
     "execution_count": 15,
     "metadata": {},
     "output_type": "execute_result"
    }
   ],
   "source": [
    "# Write a function that checks whether a number is even or odd.\n",
    "\n",
    "def is_even(x):\n",
    "    if x%2 == 0:\n",
    "        return \"Even\"\n",
    "    else:\n",
    "        return \"Odd\"\n",
    "\n",
    "\n",
    "is_even(18)\n"
   ]
  },
  {
   "cell_type": "code",
   "execution_count": 17,
   "id": "b66933a7",
   "metadata": {},
   "outputs": [
    {
     "name": "stdout",
     "output_type": "stream",
     "text": [
      "Hello, Sobia! Welcome to the Python world!\n"
     ]
    }
   ],
   "source": [
    "# Write a function that takes your name and prints:\n",
    "\n",
    "def greet_name():\n",
    "    name = input(\"Enter your name: \")\n",
    "    return name\n",
    "\n",
    "print(\"Hello,\" , greet_name() + \"! Welcome to the Python world!\")"
   ]
  },
  {
   "cell_type": "code",
   "execution_count": 18,
   "id": "5996a918",
   "metadata": {},
   "outputs": [
    {
     "name": "stdout",
     "output_type": "stream",
     "text": [
      "12\n"
     ]
    }
   ],
   "source": [
    "# Write a function that adds three numbers and returns the result.\n",
    "\n",
    "def add_numbers(x,y,z):\n",
    "    return x+y+z\n",
    "\n",
    "print(add_numbers(3,4,5))"
   ]
  },
  {
   "cell_type": "code",
   "execution_count": 24,
   "id": "6a478544",
   "metadata": {},
   "outputs": [
    {
     "name": "stdout",
     "output_type": "stream",
     "text": [
      "6 5\n"
     ]
    }
   ],
   "source": [
    "# Write a function that returns the largest of two numbers.\n",
    "\n",
    "lis = [3,4,5,2,6]\n",
    "\n",
    "def largest():\n",
    "    x = max(lis)\n",
    "    sorted_list = sorted(lis)\n",
    "    y = sorted_list[-2]\n",
    "\n",
    "    print(x,y)\n",
    "\n",
    "largest()\n"
   ]
  },
  {
   "cell_type": "code",
   "execution_count": null,
   "id": "5aeab2cf",
   "metadata": {},
   "outputs": [],
   "source": []
  }
 ],
 "metadata": {
  "kernelspec": {
   "display_name": "Python 3",
   "language": "python",
   "name": "python3"
  },
  "language_info": {
   "codemirror_mode": {
    "name": "ipython",
    "version": 3
   },
   "file_extension": ".py",
   "mimetype": "text/x-python",
   "name": "python",
   "nbconvert_exporter": "python",
   "pygments_lexer": "ipython3",
   "version": "3.12.3"
  }
 },
 "nbformat": 4,
 "nbformat_minor": 5
}
