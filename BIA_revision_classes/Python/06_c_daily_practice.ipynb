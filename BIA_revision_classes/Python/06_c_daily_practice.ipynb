{
 "cells": [
  {
   "cell_type": "markdown",
   "id": "db0a6375",
   "metadata": {},
   "source": [
    "- Input:  \"Machine learning is fun\"\n",
    "- Output: \"fun is learning Machine\""
   ]
  },
  {
   "cell_type": "code",
   "execution_count": 3,
   "id": "2889a052",
   "metadata": {},
   "outputs": [
    {
     "data": {
      "text/plain": [
       "'fun is learning Machine'"
      ]
     },
     "execution_count": 3,
     "metadata": {},
     "output_type": "execute_result"
    }
   ],
   "source": [
    "s = \"Machine learning is fun\"\n",
    "splitted_s = s.split()\n",
    "\" \".join(splitted_s[::-1])"
   ]
  },
  {
   "cell_type": "markdown",
   "id": "36520cad",
   "metadata": {},
   "source": [
    "- Input:  \"aabbcdeff\"\n",
    "- Output: \"c\""
   ]
  },
  {
   "cell_type": "code",
   "execution_count": 5,
   "id": "f3230312",
   "metadata": {},
   "outputs": [
    {
     "name": "stdout",
     "output_type": "stream",
     "text": [
      "['a', 'a', 'b', 'b', 'c', 'd', 'e', 'f', 'f']\n"
     ]
    }
   ],
   "source": [
    "s = \"aabbcdeff\"\n",
    "seen = []\n",
    "\n",
    "for i in s:\n",
    "    count = 0\n",
    "    if i not in seen:\n",
    "        seen.append(i)\n",
    "        count = 1\n",
    "    else:\n",
    "        seen.append(i)\n",
    "        count += 1\n",
    "print(seen)"
   ]
  },
  {
   "cell_type": "markdown",
   "id": "e3b954a5",
   "metadata": {},
   "source": [
    "- Input: [1, 2, 3, 4, 5, 6]  \n",
    "- Output: [2, 4, 6]"
   ]
  },
  {
   "cell_type": "code",
   "execution_count": 10,
   "id": "950280a4",
   "metadata": {},
   "outputs": [
    {
     "data": {
      "text/plain": [
       "[2, 4, 6]"
      ]
     },
     "execution_count": 10,
     "metadata": {},
     "output_type": "execute_result"
    }
   ],
   "source": [
    "num = [1,2,3,4,5,6]\n",
    "even_num = [i for i in num if i % 2 ==0]\n",
    "even_num"
   ]
  },
  {
   "cell_type": "markdown",
   "id": "053410be",
   "metadata": {},
   "source": [
    "- Input: \"madam\" → Output: True  \n",
    "- Input: \"hello\" → Output: False"
   ]
  },
  {
   "cell_type": "code",
   "execution_count": 14,
   "id": "7e83cf84",
   "metadata": {},
   "outputs": [
    {
     "data": {
      "text/plain": [
       "True"
      ]
     },
     "execution_count": 14,
     "metadata": {},
     "output_type": "execute_result"
    }
   ],
   "source": [
    "s = \"madam\"\n",
    "def palindrome(s):\n",
    "    if s == s[::-1]:\n",
    "        return True\n",
    "    else:\n",
    "        return False\n",
    "palindrome(s)"
   ]
  },
  {
   "cell_type": "markdown",
   "id": "0d9bdfe1",
   "metadata": {},
   "source": [
    "- Input: [10, 20, 4, 45, 99]  \n",
    "- Output: 45"
   ]
  },
  {
   "cell_type": "code",
   "execution_count": 24,
   "id": "87b4d452",
   "metadata": {},
   "outputs": [
    {
     "data": {
      "text/plain": [
       "45"
      ]
     },
     "execution_count": 24,
     "metadata": {},
     "output_type": "execute_result"
    }
   ],
   "source": [
    "num = [10, 20, 4, 45,99, 99]\n",
    "sorted_num = set(sorted(num))\n",
    "num2 = list(sorted_num)\n",
    "\n",
    "second_largest_num = num2[-2]\n",
    "second_largest_num\n"
   ]
  },
  {
   "cell_type": "markdown",
   "id": "4d93a241",
   "metadata": {},
   "source": [
    "- Input: \"Machine Learning\"  \n",
    "- Output: 6"
   ]
  },
  {
   "cell_type": "code",
   "execution_count": 30,
   "id": "b9f7dc4a",
   "metadata": {},
   "outputs": [
    {
     "name": "stdout",
     "output_type": "stream",
     "text": [
      "['a', 'i', 'e', 'e', 'a', 'i'] 6\n"
     ]
    }
   ],
   "source": [
    "input_str = \"Machine Learning\"\n",
    "s_list = []\n",
    "count = 0\n",
    "for i in input_str:\n",
    "    \n",
    "    if i in \"aeiouAEIOU\":\n",
    "        count += 1\n",
    "        s_list.append(i)\n",
    "print(s_list, count)\n"
   ]
  },
  {
   "cell_type": "code",
   "execution_count": 31,
   "id": "57ddf173",
   "metadata": {},
   "outputs": [
    {
     "data": {
      "text/plain": [
       "6"
      ]
     },
     "execution_count": 31,
     "metadata": {},
     "output_type": "execute_result"
    }
   ],
   "source": [
    "len(s_list)"
   ]
  },
  {
   "cell_type": "markdown",
   "id": "277e4196",
   "metadata": {},
   "source": [
    "- Input: [[1, 2], [3, 4], [5]]  \n",
    "- Output: [1, 2, 3, 4, 5]"
   ]
  },
  {
   "cell_type": "code",
   "execution_count": 32,
   "id": "89cbd22a",
   "metadata": {},
   "outputs": [
    {
     "data": {
      "text/plain": [
       "[1, 2, 3, 4, 5]"
      ]
     },
     "execution_count": 32,
     "metadata": {},
     "output_type": "execute_result"
    }
   ],
   "source": [
    "num = [[1, 2], [3, 4], [5]] \n",
    "emp_list = []\n",
    "\n",
    "for i in num:\n",
    "    for j in i:\n",
    "        emp_list.append(j)\n",
    "emp_list\n",
    "\n"
   ]
  },
  {
   "cell_type": "code",
   "execution_count": 38,
   "id": "fe631c4c",
   "metadata": {},
   "outputs": [
    {
     "ename": "ValueError",
     "evalue": "setting an array element with a sequence. The requested array has an inhomogeneous shape after 1 dimensions. The detected shape was (3,) + inhomogeneous part.",
     "output_type": "error",
     "traceback": [
      "\u001b[1;31m---------------------------------------------------------------------------\u001b[0m",
      "\u001b[1;31mValueError\u001b[0m                                Traceback (most recent call last)",
      "Cell \u001b[1;32mIn[38], line 4\u001b[0m\n\u001b[0;32m      1\u001b[0m \u001b[38;5;28;01mimport\u001b[39;00m \u001b[38;5;21;01mnumpy\u001b[39;00m \u001b[38;5;28;01mas\u001b[39;00m \u001b[38;5;21;01mnp\u001b[39;00m\n\u001b[0;32m      3\u001b[0m num \u001b[38;5;241m=\u001b[39m [[\u001b[38;5;241m1\u001b[39m, \u001b[38;5;241m2\u001b[39m], [\u001b[38;5;241m3\u001b[39m, \u001b[38;5;241m4\u001b[39m], [\u001b[38;5;241m5\u001b[39m]] \n\u001b[1;32m----> 4\u001b[0m arr \u001b[38;5;241m=\u001b[39m \u001b[43mnp\u001b[49m\u001b[38;5;241;43m.\u001b[39;49m\u001b[43marray\u001b[49m\u001b[43m(\u001b[49m\u001b[43m[\u001b[49m\u001b[43m[\u001b[49m\u001b[38;5;241;43m1\u001b[39;49m\u001b[43m,\u001b[49m\u001b[43m \u001b[49m\u001b[38;5;241;43m2\u001b[39;49m\u001b[43m]\u001b[49m\u001b[43m,\u001b[49m\u001b[43m \u001b[49m\u001b[43m[\u001b[49m\u001b[38;5;241;43m3\u001b[39;49m\u001b[43m,\u001b[49m\u001b[43m \u001b[49m\u001b[38;5;241;43m4\u001b[39;49m\u001b[43m]\u001b[49m\u001b[43m,\u001b[49m\u001b[43m \u001b[49m\u001b[43m[\u001b[49m\u001b[38;5;241;43m5\u001b[39;49m\u001b[43m]\u001b[49m\u001b[43m]\u001b[49m\u001b[43m)\u001b[49m\n\u001b[0;32m      5\u001b[0m arr_shape \u001b[38;5;241m=\u001b[39m arr\u001b[38;5;241m.\u001b[39mreshape(\u001b[38;5;241m-\u001b[39m\u001b[38;5;241m1\u001b[39m)\n\u001b[0;32m      6\u001b[0m arr_shape\u001b[38;5;241m.\u001b[39mtolist()\n",
      "\u001b[1;31mValueError\u001b[0m: setting an array element with a sequence. The requested array has an inhomogeneous shape after 1 dimensions. The detected shape was (3,) + inhomogeneous part."
     ]
    }
   ],
   "source": [
    "import numpy as np\n",
    "\n",
    "num = [[1, 2], [3, 4], [5]] \n",
    "arr = np.array([[1, 2], [3, 4], [5]])\n",
    "arr_shape = arr.reshape(-1)\n",
    "arr_shape.tolist()"
   ]
  },
  {
   "cell_type": "code",
   "execution_count": null,
   "id": "5a37ac31",
   "metadata": {},
   "outputs": [],
   "source": []
  }
 ],
 "metadata": {
  "kernelspec": {
   "display_name": "base",
   "language": "python",
   "name": "python3"
  },
  "language_info": {
   "codemirror_mode": {
    "name": "ipython",
    "version": 3
   },
   "file_extension": ".py",
   "mimetype": "text/x-python",
   "name": "python",
   "nbconvert_exporter": "python",
   "pygments_lexer": "ipython3",
   "version": "3.12.9"
  }
 },
 "nbformat": 4,
 "nbformat_minor": 5
}
