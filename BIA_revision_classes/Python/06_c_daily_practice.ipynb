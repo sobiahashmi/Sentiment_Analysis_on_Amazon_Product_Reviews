{
 "cells": [
  {
   "cell_type": "markdown",
   "id": "db0a6375",
   "metadata": {},
   "source": [
    "- Input:  \"Machine learning is fun\"\n",
    "- Output: \"fun is learning Machine\""
   ]
  },
  {
   "cell_type": "code",
   "execution_count": 3,
   "id": "2889a052",
   "metadata": {},
   "outputs": [
    {
     "data": {
      "text/plain": [
       "'fun is learning Machine'"
      ]
     },
     "execution_count": 3,
     "metadata": {},
     "output_type": "execute_result"
    }
   ],
   "source": [
    "s = \"Machine learning is fun\"\n",
    "splitted_s = s.split()\n",
    "\" \".join(splitted_s[::-1])"
   ]
  },
  {
   "cell_type": "markdown",
   "id": "36520cad",
   "metadata": {},
   "source": [
    "- Input:  \"aabbcdeff\"\n",
    "- Output: \"c\""
   ]
  },
  {
   "cell_type": "code",
   "execution_count": 5,
   "id": "f3230312",
   "metadata": {},
   "outputs": [
    {
     "name": "stdout",
     "output_type": "stream",
     "text": [
      "['a', 'a', 'b', 'b', 'c', 'd', 'e', 'f', 'f']\n"
     ]
    }
   ],
   "source": [
    "s = \"aabbcdeff\"\n",
    "seen = []\n",
    "\n",
    "for i in s:\n",
    "    count = 0\n",
    "    if i not in seen:\n",
    "        seen.append(i)\n",
    "        count = 1\n",
    "    else:\n",
    "        seen.append(i)\n",
    "        count += 1\n",
    "print(seen)"
   ]
  },
  {
   "cell_type": "code",
   "execution_count": null,
   "id": "950280a4",
   "metadata": {},
   "outputs": [],
   "source": []
  }
 ],
 "metadata": {
  "kernelspec": {
   "display_name": "base",
   "language": "python",
   "name": "python3"
  },
  "language_info": {
   "codemirror_mode": {
    "name": "ipython",
    "version": 3
   },
   "file_extension": ".py",
   "mimetype": "text/x-python",
   "name": "python",
   "nbconvert_exporter": "python",
   "pygments_lexer": "ipython3",
   "version": "3.12.9"
  }
 },
 "nbformat": 4,
 "nbformat_minor": 5
}
