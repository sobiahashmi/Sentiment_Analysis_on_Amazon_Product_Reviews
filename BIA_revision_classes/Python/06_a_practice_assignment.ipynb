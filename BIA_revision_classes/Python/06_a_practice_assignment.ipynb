{
 "cells": [
  {
   "cell_type": "markdown",
   "id": "e5e3a330",
   "metadata": {},
   "source": [
    "Question1:\n",
    "\n",
    "- Ask the user to enter a temperature three times using input().\n",
    "- Convert each input to float.\n",
    "- Use a for loop to repeat the 3 inputs.\n",
    "- For each input, use if-elif-else:\n",
    "- If temperature < 15 → print \"Cold\"\n",
    "- If 15 ≤ temperature < 25 → print \"Warm\"\n",
    "- If temperature ≥ 25 → print \"Hot\""
   ]
  },
  {
   "cell_type": "code",
   "execution_count": 25,
   "id": "10de7c0e",
   "metadata": {},
   "outputs": [
    {
     "name": "stdout",
     "output_type": "stream",
     "text": [
      "Cold\n",
      "Cold\n",
      "Cold\n"
     ]
    }
   ],
   "source": [
    "temp1 = float(input(\"Enter First Temperature: \"))\n",
    "temp2 = float(input(\"Enter Second Temperature: \"))\n",
    "temp3 = float(input(\"Enter Third Temperature: \"))\n",
    "\n",
    "for i in range(1,4):\n",
    "    temp = float(input(\"Enter First Temperature: \"))\n",
    "    if temp < 15:\n",
    "        print(\"Cold\")\n",
    "    elif temp >= 15 and temp < 25:\n",
    "        print(\"Warm\")\n",
    "    else:\n",
    "        print(\"Hot\")\n",
    "\n",
    "    \n",
    "#    if i == 1:\n",
    "#     if temp1 < 15:\n",
    "#         print(\"Cold\")\n",
    "#     elif temp1 >= 15 and temp1< 25:\n",
    "#         print(\"Warm\")\n",
    "#     else:\n",
    "#         print(\"Hot\")\n",
    "    \n",
    "#    if i == 2:\n",
    "#     if temp2 < 15:\n",
    "#         print(\"Cold\")\n",
    "#     elif temp2 >= 15 and temp2< 25:\n",
    "#         print(\"Warm\")\n",
    "#     else:\n",
    "#         print(\"Hot\")\n",
    "\n",
    "#    if i == 3:\n",
    "#     if temp3 < 15:\n",
    "#         print(\"Cold\")\n",
    "#     elif temp3 >= 15 and temp3< 25:\n",
    "#         print(\"Warm\")\n",
    "#     else:\n",
    "#         print(\"Hot\")\n"
   ]
  },
  {
   "cell_type": "markdown",
   "id": "4ee7b89b",
   "metadata": {},
   "source": [
    "Question2:\n",
    "\n",
    "- Ask the user to input a word (string).\n",
    "- Use a for loop to go through the first 5 characters of the word (or fewer if the word is shorter).\n",
    "- For each character, print:\n",
    "- Its index and the character at that index.\n",
    "- Use if-elif-else to check:\n",
    "- If the character is a vowel → print \"Vowel\"\n",
    "- If it's a consonant → print \"Consonant\"\n",
    "- If it's not a letter → print \"Other character\""
   ]
  },
  {
   "cell_type": "code",
   "execution_count": 18,
   "id": "fa292cd5",
   "metadata": {},
   "outputs": [
    {
     "name": "stdout",
     "output_type": "stream",
     "text": [
      "<class 'float'>\n",
      "0 a Vowel\n",
      "1 l consonent\n",
      "2 a Vowel\n",
      "3 m consonent\n",
      "4 g consonent\n",
      "5 i Vowel\n",
      "Length of word is more than 5\n"
     ]
    }
   ],
   "source": [
    "print(type(temp1))\n",
    "\n",
    "str_word = input(\"Enter any word: \")\n",
    "len_word = len(str_word)\n",
    "\n",
    "for i in range(len(str_word)):\n",
    "   if i <= 5: \n",
    "    if str_word[i] in 'aeiouAEIOU':\n",
    "        print(i,str_word[i],\"Vowel\")\n",
    "    elif str_word[i] in 'bcdefghjklmnpqrstvwxyzBCCDFGHJKLMNPQRSTVWXYZ':\n",
    "        print(i,str_word[i],\"consonent\")\n",
    "    else:\n",
    "        print(i,str_word[i],\"Other CHaracter\")\n",
    "   else:\n",
    "    print(\"Length of word is more than 5\")\n",
    "    break\n",
    "\n",
    "# for j in str_word:\n",
    "#     if j in 'aeiouAEIOU':\n",
    "#         print(j,\"Vowel\")\n",
    "#     elif j in 'bcdefghjklmnpqrstvwxyzBCCDFGHJKLMNPQRSTVWXYZ':\n",
    "#         print(j,\"consonent\")\n",
    "#     else:\n",
    "#         print(j,\"Other CHaracter\")\n"
   ]
  },
  {
   "cell_type": "code",
   "execution_count": 19,
   "id": "e3b74b61",
   "metadata": {},
   "outputs": [
    {
     "data": {
      "text/plain": [
       "array([[ 4,  3,  2,  1],\n",
       "       [ 8,  7,  6,  5],\n",
       "       [12, 11, 10,  9]])"
      ]
     },
     "execution_count": 19,
     "metadata": {},
     "output_type": "execute_result"
    }
   ],
   "source": [
    "import numpy as np\n",
    "list = [[1,2,3,4],\n",
    "        [5,6,7,8], \n",
    "        [9,10,11,12]]\n",
    "list_2 = [9,10,11,12]\n",
    "\n",
    "slicing_numpy = np.array(list)\n",
    "slicing_numpy[:,::-1]"
   ]
  },
  {
   "cell_type": "code",
   "execution_count": 5,
   "id": "87a6d0fb",
   "metadata": {},
   "outputs": [],
   "source": [
    "import pandas as pd\n",
    "\n",
    "df = pd.DataFrame([[10, 20, 30],\n",
    "                   [40, 50, 60]],\n",
    "                  columns=[\"A\", \"B\", \"C\"])"
   ]
  },
  {
   "cell_type": "code",
   "execution_count": 22,
   "id": "5bd47d5c",
   "metadata": {},
   "outputs": [
    {
     "data": {
      "text/plain": [
       "40"
      ]
     },
     "execution_count": 22,
     "metadata": {},
     "output_type": "execute_result"
    }
   ],
   "source": [
    "row_1_col_1 = df.at[1,\"A\"]\n",
    "row_1_col_1"
   ]
  },
  {
   "cell_type": "code",
   "execution_count": 23,
   "id": "f98830e8",
   "metadata": {},
   "outputs": [
    {
     "data": {
      "text/plain": [
       "60"
      ]
     },
     "execution_count": 23,
     "metadata": {},
     "output_type": "execute_result"
    }
   ],
   "source": [
    "row_2_col_3 = df.at[1,\"C\"]\n",
    "row_2_col_3"
   ]
  },
  {
   "cell_type": "code",
   "execution_count": 26,
   "id": "95b64275",
   "metadata": {},
   "outputs": [
    {
     "data": {
      "text/plain": [
       "60"
      ]
     },
     "execution_count": 26,
     "metadata": {},
     "output_type": "execute_result"
    }
   ],
   "source": [
    "slicing_1 = df.iloc[1][\"C\"]\n",
    "slicing_1"
   ]
  },
  {
   "cell_type": "code",
   "execution_count": null,
   "id": "4874444f",
   "metadata": {},
   "outputs": [
    {
     "data": {
      "text/plain": [
       "array([[30, 20, 10],\n",
       "       [60, 50, 40]], dtype=int64)"
      ]
     },
     "execution_count": 14,
     "metadata": {},
     "output_type": "execute_result"
    }
   ],
   "source": [
    "\n",
    "slicing_df = df.values[:,::-1]\n",
    "slicing_df"
   ]
  },
  {
   "cell_type": "code",
   "execution_count": 15,
   "id": "76ee2ec1",
   "metadata": {},
   "outputs": [
    {
     "data": {
      "text/plain": [
       "array([[10, 20, 30],\n",
       "       [40, 50, 60]], dtype=int64)"
      ]
     },
     "execution_count": 15,
     "metadata": {},
     "output_type": "execute_result"
    }
   ],
   "source": [
    "slicing_df = df.values[:, -3:]\n",
    "slicing_df"
   ]
  },
  {
   "cell_type": "code",
   "execution_count": 16,
   "id": "23c91335",
   "metadata": {},
   "outputs": [
    {
     "data": {
      "text/plain": [
       "array([[30, 20, 10],\n",
       "       [60, 50, 40]], dtype=int64)"
      ]
     },
     "execution_count": 16,
     "metadata": {},
     "output_type": "execute_result"
    }
   ],
   "source": [
    "slicing_df = df.values[:, -3:][:, ::-1]\n",
    "slicing_df\n"
   ]
  },
  {
   "cell_type": "code",
   "execution_count": 29,
   "id": "e38252a8",
   "metadata": {},
   "outputs": [
    {
     "data": {
      "text/html": [
       "<div>\n",
       "<style scoped>\n",
       "    .dataframe tbody tr th:only-of-type {\n",
       "        vertical-align: middle;\n",
       "    }\n",
       "\n",
       "    .dataframe tbody tr th {\n",
       "        vertical-align: top;\n",
       "    }\n",
       "\n",
       "    .dataframe thead th {\n",
       "        text-align: right;\n",
       "    }\n",
       "</style>\n",
       "<table border=\"1\" class=\"dataframe\">\n",
       "  <thead>\n",
       "    <tr style=\"text-align: right;\">\n",
       "      <th></th>\n",
       "      <th>A</th>\n",
       "      <th>B</th>\n",
       "    </tr>\n",
       "  </thead>\n",
       "  <tbody>\n",
       "    <tr>\n",
       "      <th>0</th>\n",
       "      <td>10</td>\n",
       "      <td>5</td>\n",
       "    </tr>\n",
       "    <tr>\n",
       "      <th>1</th>\n",
       "      <td>20</td>\n",
       "      <td>15</td>\n",
       "    </tr>\n",
       "    <tr>\n",
       "      <th>2</th>\n",
       "      <td>30</td>\n",
       "      <td>25</td>\n",
       "    </tr>\n",
       "    <tr>\n",
       "      <th>3</th>\n",
       "      <td>40</td>\n",
       "      <td>35</td>\n",
       "    </tr>\n",
       "    <tr>\n",
       "      <th>4</th>\n",
       "      <td>50</td>\n",
       "      <td>45</td>\n",
       "    </tr>\n",
       "  </tbody>\n",
       "</table>\n",
       "</div>"
      ],
      "text/plain": [
       "    A   B\n",
       "0  10   5\n",
       "1  20  15\n",
       "2  30  25\n",
       "3  40  35\n",
       "4  50  45"
      ]
     },
     "execution_count": 29,
     "metadata": {},
     "output_type": "execute_result"
    }
   ],
   "source": [
    "df = pd.DataFrame({\n",
    "    \"A\": [10, 20, 30, 40, 50],\n",
    "    \"B\": [5, 15, 25, 35, 45]\n",
    "})\n",
    "df"
   ]
  },
  {
   "cell_type": "code",
   "execution_count": null,
   "id": "b1f8df20",
   "metadata": {},
   "outputs": [
    {
     "name": "stdout",
     "output_type": "stream",
     "text": [
      "40\n",
      "40\n",
      "40\n"
     ]
    }
   ],
   "source": [
    "print(df.loc[3,\"A\"]) # label based\n",
    "print(df.iloc[3,0]) # index based\n",
    "print(df.at[3,\"A\"]) # single value"
   ]
  },
  {
   "cell_type": "code",
   "execution_count": null,
   "id": "ebed59f5",
   "metadata": {},
   "outputs": [],
   "source": []
  }
 ],
 "metadata": {
  "kernelspec": {
   "display_name": "base",
   "language": "python",
   "name": "python3"
  },
  "language_info": {
   "codemirror_mode": {
    "name": "ipython",
    "version": 3
   },
   "file_extension": ".py",
   "mimetype": "text/x-python",
   "name": "python",
   "nbconvert_exporter": "python",
   "pygments_lexer": "ipython3",
   "version": "3.12.9"
  }
 },
 "nbformat": 4,
 "nbformat_minor": 5
}
