{
 "cells": [
  {
   "cell_type": "markdown",
   "id": "04f908c3",
   "metadata": {},
   "source": [
    "# Sets in Python\n",
    "- A set is an unordered, unindexed, and mutable collection of unique elements in Python.\n",
    "  - No duplicate values allowed\n",
    "  - Written using curly braces {}\n",
    "  - Elements can be of any hashable type (e.g., numbers, strings)"
   ]
  },
  {
   "cell_type": "code",
   "execution_count": 1,
   "id": "2bdba3b0",
   "metadata": {},
   "outputs": [
    {
     "name": "stdout",
     "output_type": "stream",
     "text": [
      "{'red', 'yellow', 'blue', 'green'}\n"
     ]
    }
   ],
   "source": [
    "colors = {'red', 'green', 'red','blue', 'green', 'yellow'}\n",
    "print(colors)"
   ]
  },
  {
   "cell_type": "code",
   "execution_count": 2,
   "id": "7e8126f9",
   "metadata": {},
   "outputs": [
    {
     "name": "stdout",
     "output_type": "stream",
     "text": [
      "{1, 2, 3, 4, 5}\n"
     ]
    }
   ],
   "source": [
    "numbers = {1,2,3,3,4,4,4,4,5,5,5,5,5}\n",
    "print(numbers)"
   ]
  },
  {
   "cell_type": "code",
   "execution_count": 4,
   "id": "1823c58c",
   "metadata": {},
   "outputs": [
    {
     "name": "stdout",
     "output_type": "stream",
     "text": [
      "<class 'set'> {1, 3.14, (1, 2, 3), 'apple', (1, 2, 3, 3)}\n"
     ]
    }
   ],
   "source": [
    "mixed_set = {1,'apple', 3.14,(1,2,3),1,(1,2,3,3)}\n",
    "print(type(mixed_set),mixed_set)"
   ]
  },
  {
   "cell_type": "code",
   "execution_count": 6,
   "id": "9e183be6",
   "metadata": {},
   "outputs": [
    {
     "name": "stdout",
     "output_type": "stream",
     "text": [
      "<class 'set'> {1, 3.14, (1, 2, 3), 'apple', (1, 2, 3, 3)}\n"
     ]
    }
   ],
   "source": [
    "list_typecasting = set(mixed_set)\n",
    "print(type(list_typecasting), list_typecasting)"
   ]
  },
  {
   "cell_type": "markdown",
   "id": "abefa60e",
   "metadata": {},
   "source": [
    "### Union , Intersection and Difference"
   ]
  },
  {
   "cell_type": "code",
   "execution_count": 14,
   "id": "69175ea5",
   "metadata": {},
   "outputs": [
    {
     "name": "stdout",
     "output_type": "stream",
     "text": [
      "Union:  {1, 2, 3, 4, 5}\n",
      "Intersection:  {3}\n",
      "Difference:  {1, 2}\n"
     ]
    }
   ],
   "source": [
    "set1 = {1,2,3}\n",
    "set2 = {3,4,5}\n",
    "\n",
    "print(\"Union: \", set1 | set2)\n",
    "print(\"Intersection: \", set1 & set2)\n",
    "print(\"Difference: \", set1 - set2)"
   ]
  },
  {
   "cell_type": "code",
   "execution_count": 85,
   "id": "217d8dce",
   "metadata": {},
   "outputs": [
    {
     "name": "stdout",
     "output_type": "stream",
     "text": [
      "{2, 3, 4, 5}\n"
     ]
    }
   ],
   "source": [
    "my_set = {1,2,3,4,5}\n",
    "my_set.pop()\n",
    "print(my_set)"
   ]
  },
  {
   "cell_type": "markdown",
   "id": "4c027dd6",
   "metadata": {},
   "source": [
    "### Checking Membership in sets"
   ]
  },
  {
   "cell_type": "code",
   "execution_count": 15,
   "id": "bb1a202a",
   "metadata": {},
   "outputs": [
    {
     "name": "stdout",
     "output_type": "stream",
     "text": [
      "Is 'banana' present in fruit_set? True\n"
     ]
    }
   ],
   "source": [
    "fruit_set = {'apple', 'banana', 'cherry'}\n",
    "is_present = 'banana' in fruit_set\n",
    "print(\"Is 'banana' present in fruit_set?\", is_present)"
   ]
  },
  {
   "cell_type": "code",
   "execution_count": 26,
   "id": "946655c3",
   "metadata": {},
   "outputs": [
    {
     "name": "stdout",
     "output_type": "stream",
     "text": [
      "84\n",
      "['m4']\n"
     ]
    }
   ],
   "source": [
    "# Problem: Extract key of Maximum value from a dictionary\n",
    "m = {'m1':78,\n",
    "     'm2':67,\n",
    "     'm3':56,\n",
    "     'm4':84,\n",
    "     'm5':23}\n",
    "\n",
    "max_val = max(m.values())\n",
    "print(max_val)\n",
    "\n",
    "lis = []\n",
    "for i in m:\n",
    "    if m[i] == max_val:\n",
    "        lis.append(i)\n",
    "        print(lis)"
   ]
  },
  {
   "cell_type": "code",
   "execution_count": 29,
   "id": "741e3041",
   "metadata": {},
   "outputs": [
    {
     "name": "stdout",
     "output_type": "stream",
     "text": [
      "m4 84\n"
     ]
    }
   ],
   "source": [
    "for k,v in m.items():\n",
    "    if v == max_val:\n",
    "        print(k,v)"
   ]
  },
  {
   "cell_type": "code",
   "execution_count": 30,
   "id": "3c1a2998",
   "metadata": {},
   "outputs": [
    {
     "name": "stdout",
     "output_type": "stream",
     "text": [
      "1\n",
      "2\n",
      "3\n",
      "4\n",
      "5\n"
     ]
    }
   ],
   "source": [
    "my_set = {1,2,3,4,5}\n",
    "\n",
    "for element in my_set:\n",
    "    print(element)"
   ]
  },
  {
   "cell_type": "markdown",
   "id": "03d9e5ec",
   "metadata": {},
   "source": [
    "# List Comprehension"
   ]
  },
  {
   "cell_type": "code",
   "execution_count": 84,
   "id": "fc651c46",
   "metadata": {},
   "outputs": [
    {
     "name": "stdout",
     "output_type": "stream",
     "text": [
      "List comprehension for squares: [0, 1, 4, 9, 16]\n"
     ]
    }
   ],
   "source": [
    "square_lc = [x**2 for x in range(5)]\n",
    "print(\"List comprehension for squares:\",square_lc)"
   ]
  },
  {
   "cell_type": "code",
   "execution_count": 34,
   "id": "78deafa4",
   "metadata": {},
   "outputs": [
    {
     "name": "stdout",
     "output_type": "stream",
     "text": [
      "List comprehension for cubes: [0, 1, 8, 27, 64]\n"
     ]
    }
   ],
   "source": [
    "cube_lc = [x**3 for x in range(5)]\n",
    "print(\"List comprehension for cubes:\", cube_lc)"
   ]
  },
  {
   "cell_type": "code",
   "execution_count": 37,
   "id": "863274ea",
   "metadata": {},
   "outputs": [
    {
     "name": "stdout",
     "output_type": "stream",
     "text": [
      "Even numbers squared: [0, 4, 16]\n"
     ]
    }
   ],
   "source": [
    "# Square of even numbers\n",
    "even_squared = [x**2 for x in range(6) if x%2 == 0]\n",
    "print(\"Even numbers squared:\", even_squared)"
   ]
  },
  {
   "cell_type": "markdown",
   "id": "e6f0d8c8",
   "metadata": {},
   "source": [
    "# Comparision of code with and without list comprehension"
   ]
  },
  {
   "cell_type": "code",
   "execution_count": 44,
   "id": "cf0a86ca",
   "metadata": {},
   "outputs": [
    {
     "name": "stdout",
     "output_type": "stream",
     "text": [
      "[0, 4, 16]\n"
     ]
    }
   ],
   "source": [
    "emp_list = []\n",
    "for x in range(6):\n",
    "    if x%2 == 0:\n",
    "        emp_list.append(x**2)\n",
    "print(emp_list)\n",
    "        "
   ]
  },
  {
   "cell_type": "markdown",
   "id": "950d0a1e",
   "metadata": {},
   "source": [
    "**Problem: Print squares if the number is not divisible by 2; otherwise, print cubes.**"
   ]
  },
  {
   "cell_type": "code",
   "execution_count": 45,
   "id": "b2dfa4df",
   "metadata": {},
   "outputs": [
    {
     "name": "stdout",
     "output_type": "stream",
     "text": [
      "[0, 1, 8, 9, 64, 25]\n"
     ]
    }
   ],
   "source": [
    "e = [i**2 if i%2 != 0 else i**3 for i in range(6)]\n",
    "print(e)"
   ]
  },
  {
   "cell_type": "code",
   "execution_count": 46,
   "id": "a081de68",
   "metadata": {},
   "outputs": [
    {
     "name": "stdout",
     "output_type": "stream",
     "text": [
      "[0, 1, 8, 9, 64, 25]\n"
     ]
    }
   ],
   "source": [
    "emp_list = []\n",
    "for i in range(6):\n",
    "    if i%2 != 0: # [1 , 3 , 5]  --> [1,9,25]\n",
    "        emp_list.append(i**2)\n",
    "    else: # [0 , 2 , 4]  --> [0,8,64]\n",
    "        emp_list.append(i**3)\n",
    "print(emp_list)\n"
   ]
  },
  {
   "cell_type": "markdown",
   "id": "35ca3b00",
   "metadata": {},
   "source": [
    "**Problem: If the number is less than zero, print 0; otherwise, print the number as it is.**"
   ]
  },
  {
   "cell_type": "code",
   "execution_count": 47,
   "id": "f8f7b96a",
   "metadata": {},
   "outputs": [
    {
     "name": "stdout",
     "output_type": "stream",
     "text": [
      "[0, 0, 0, 1, 2, 3]\n"
     ]
    }
   ],
   "source": [
    "l = [-3,-2,-1,1,2,3]\n",
    "l = [0 if i<0 else i for i in l]\n",
    "print(l)"
   ]
  },
  {
   "cell_type": "code",
   "execution_count": 48,
   "id": "91ee2025",
   "metadata": {},
   "outputs": [
    {
     "name": "stdout",
     "output_type": "stream",
     "text": [
      "[0, 0, 0, 1, 2, 3]\n"
     ]
    }
   ],
   "source": [
    "emp_list = []\n",
    "for i in l:\n",
    "    if i < 0:\n",
    "        emp_list.append(0)\n",
    "    else:\n",
    "        emp_list.append(i)\n",
    "\n",
    "print(emp_list)"
   ]
  },
  {
   "cell_type": "markdown",
   "id": "90213952",
   "metadata": {},
   "source": [
    "# Dictionary Comprehension"
   ]
  },
  {
   "cell_type": "code",
   "execution_count": 50,
   "id": "89ca4e08",
   "metadata": {},
   "outputs": [
    {
     "name": "stdout",
     "output_type": "stream",
     "text": [
      "{1: 1, 2: 4, 3: 9, 4: 16, 5: 25}\n"
     ]
    }
   ],
   "source": [
    "square_dict = {x:x**2 for x in range(1,6)}\n",
    "print(square_dict)"
   ]
  },
  {
   "cell_type": "code",
   "execution_count": 52,
   "id": "3aa01d9f",
   "metadata": {},
   "outputs": [
    {
     "name": "stdout",
     "output_type": "stream",
     "text": [
      "{1: 1, 2: 4, 3: 9, 4: 16, 5: 25}\n"
     ]
    }
   ],
   "source": [
    "emp_dict = {}\n",
    "\n",
    "for i in range(1,6):\n",
    "    emp_dict[i] = i**2\n",
    "print(emp_dict)"
   ]
  },
  {
   "cell_type": "code",
   "execution_count": 53,
   "id": "0d976460",
   "metadata": {},
   "outputs": [
    {
     "name": "stdout",
     "output_type": "stream",
     "text": [
      "{'banana': 6, 'orange': 6}\n"
     ]
    }
   ],
   "source": [
    "words = ['apple','banana','orange']\n",
    "word_lengths = { word:len(word) for word in words if len(word)==6}\n",
    "print(word_lengths)"
   ]
  },
  {
   "cell_type": "code",
   "execution_count": 74,
   "id": "baa9c21f",
   "metadata": {},
   "outputs": [
    {
     "name": "stdout",
     "output_type": "stream",
     "text": [
      "{'name': 'Alice', 'age': 25, 'city': 'New York'}\n"
     ]
    }
   ],
   "source": [
    "# Problem: Make a dictionary by using two lists\n",
    "keys = ['name','age','city']\n",
    "values = ['Alice',25,'New York']\n",
    "\n",
    "emp_dict = {}\n",
    "for i in range(len(keys)): # 0,1,2\n",
    "    emp_dict[keys[i]] = values[i]\n",
    "\n",
    "print(emp_dict)"
   ]
  },
  {
   "cell_type": "code",
   "execution_count": 72,
   "id": "0cdfd4ac",
   "metadata": {},
   "outputs": [
    {
     "name": "stdout",
     "output_type": "stream",
     "text": [
      "{'name': 'Alice', 'age': 25, 'city': 'New York'}\n"
     ]
    }
   ],
   "source": [
    "# Dictionary Comprehension\n",
    "dict_comp = {keys[i]:values[i] for i in range(len(keys))}\n",
    "print(dict_comp)"
   ]
  },
  {
   "cell_type": "code",
   "execution_count": 75,
   "id": "631c6978",
   "metadata": {},
   "outputs": [
    {
     "data": {
      "text/plain": [
       "'a'"
      ]
     },
     "execution_count": 75,
     "metadata": {},
     "output_type": "execute_result"
    }
   ],
   "source": [
    "chr(97)"
   ]
  },
  {
   "cell_type": "code",
   "execution_count": 78,
   "id": "b9c4a831",
   "metadata": {},
   "outputs": [
    {
     "data": {
      "text/plain": [
       "(65, 'A')"
      ]
     },
     "execution_count": 78,
     "metadata": {},
     "output_type": "execute_result"
    }
   ],
   "source": [
    "ord('A'),chr(65)"
   ]
  },
  {
   "cell_type": "code",
   "execution_count": 80,
   "id": "0c1ef651",
   "metadata": {},
   "outputs": [
    {
     "data": {
      "text/plain": [
       "(98, 'b')"
      ]
     },
     "execution_count": 80,
     "metadata": {},
     "output_type": "execute_result"
    }
   ],
   "source": [
    "ord('b'),chr(98)"
   ]
  },
  {
   "cell_type": "code",
   "execution_count": null,
   "id": "b19ab4af",
   "metadata": {},
   "outputs": [],
   "source": []
  }
 ],
 "metadata": {
  "kernelspec": {
   "display_name": "Python 3",
   "language": "python",
   "name": "python3"
  },
  "language_info": {
   "codemirror_mode": {
    "name": "ipython",
    "version": 3
   },
   "file_extension": ".py",
   "mimetype": "text/x-python",
   "name": "python",
   "nbconvert_exporter": "python",
   "pygments_lexer": "ipython3",
   "version": "3.12.3"
  }
 },
 "nbformat": 4,
 "nbformat_minor": 5
}
