{
 "cells": [
  {
   "cell_type": "markdown",
   "id": "2fd3e51d",
   "metadata": {},
   "source": [
    "#Pandas Library \n",
    "- Pandas is a powerful Python library for data analysis and manipulation, built around two core tools:\n",
    "  - DataFrame = a smart, fast spreadsheet (rows + columns)\n",
    "  - Series = a single column of labeled data"
   ]
  },
  {
   "cell_type": "code",
   "execution_count": 1,
   "id": "0facf902",
   "metadata": {},
   "outputs": [],
   "source": [
    "import pandas as pd"
   ]
  },
  {
   "cell_type": "markdown",
   "id": "39d34c54",
   "metadata": {},
   "source": [
    "* **Creating a Pandas Series using List** "
   ]
  },
  {
   "cell_type": "code",
   "execution_count": 8,
   "id": "b2d2659e",
   "metadata": {},
   "outputs": [
    {
     "name": "stdout",
     "output_type": "stream",
     "text": [
      "0    10\n",
      "1    20\n",
      "2    30\n",
      "3    40\n",
      "4    50\n",
      "dtype: int64\n",
      "<class 'pandas.core.series.Series'>\n"
     ]
    }
   ],
   "source": [
    "data = [10,20,30,40,50]\n",
    "series_from_list = pd.Series(data)\n",
    "print(series_from_list)\n",
    "print(type(series_from_list))"
   ]
  },
  {
   "cell_type": "markdown",
   "id": "2bb28f92",
   "metadata": {},
   "source": [
    "* **Creating a Pandas Series using Array**"
   ]
  },
  {
   "cell_type": "code",
   "execution_count": 7,
   "id": "23e011aa",
   "metadata": {},
   "outputs": [
    {
     "name": "stdout",
     "output_type": "stream",
     "text": [
      "0    1\n",
      "1    2\n",
      "2    3\n",
      "3    4\n",
      "4    5\n",
      "dtype: int32\n",
      "<class 'pandas.core.series.Series'>\n"
     ]
    }
   ],
   "source": [
    "import numpy as np\n",
    "numpy_array = np.array([1,2,3,4,5])\n",
    "series_from_array = pd.Series(numpy_array)\n",
    "print(series_from_array)\n",
    "print(type(series_from_array))"
   ]
  },
  {
   "cell_type": "markdown",
   "id": "30868f8f",
   "metadata": {},
   "source": [
    "* **How to apply Custom Indexing**"
   ]
  },
  {
   "cell_type": "code",
   "execution_count": 150,
   "id": "1d6a38bb",
   "metadata": {},
   "outputs": [
    {
     "data": {
      "text/plain": [
       "A    10\n",
       "B    20\n",
       "C    30\n",
       "D    40\n",
       "E    50\n",
       "dtype: int64"
      ]
     },
     "execution_count": 150,
     "metadata": {},
     "output_type": "execute_result"
    }
   ],
   "source": [
    "data = [10,20,30,40,50]\n",
    "custom_index = pd.Series(data,index = ['A','B','C','D','E'])\n",
    "custom_index"
   ]
  },
  {
   "cell_type": "code",
   "execution_count": 13,
   "id": "dcb3d40e",
   "metadata": {},
   "outputs": [
    {
     "data": {
      "text/plain": [
       "30"
      ]
     },
     "execution_count": 13,
     "metadata": {},
     "output_type": "execute_result"
    }
   ],
   "source": [
    "# If you want to access the value '30'\n",
    "data[2]"
   ]
  },
  {
   "cell_type": "code",
   "execution_count": 16,
   "id": "3edda9a2",
   "metadata": {},
   "outputs": [
    {
     "data": {
      "text/plain": [
       "30"
      ]
     },
     "execution_count": 16,
     "metadata": {},
     "output_type": "execute_result"
    }
   ],
   "source": [
    "# You can also access from custom index\n",
    "custom_index['C']"
   ]
  },
  {
   "cell_type": "markdown",
   "id": "7931890a",
   "metadata": {},
   "source": [
    "* **Creating a Pandas dataframe using Dictionary**"
   ]
  },
  {
   "cell_type": "code",
   "execution_count": 152,
   "id": "04f7fcf3",
   "metadata": {},
   "outputs": [
    {
     "data": {
      "text/html": [
       "<div>\n",
       "<style scoped>\n",
       "    .dataframe tbody tr th:only-of-type {\n",
       "        vertical-align: middle;\n",
       "    }\n",
       "\n",
       "    .dataframe tbody tr th {\n",
       "        vertical-align: top;\n",
       "    }\n",
       "\n",
       "    .dataframe thead th {\n",
       "        text-align: right;\n",
       "    }\n",
       "</style>\n",
       "<table border=\"1\" class=\"dataframe\">\n",
       "  <thead>\n",
       "    <tr style=\"text-align: right;\">\n",
       "      <th></th>\n",
       "      <th>Name</th>\n",
       "      <th>Age</th>\n",
       "    </tr>\n",
       "  </thead>\n",
       "  <tbody>\n",
       "    <tr>\n",
       "      <th>0</th>\n",
       "      <td>Alice</td>\n",
       "      <td>25</td>\n",
       "    </tr>\n",
       "    <tr>\n",
       "      <th>1</th>\n",
       "      <td>Bob</td>\n",
       "      <td>30</td>\n",
       "    </tr>\n",
       "    <tr>\n",
       "      <th>2</th>\n",
       "      <td>Claire</td>\n",
       "      <td>35</td>\n",
       "    </tr>\n",
       "  </tbody>\n",
       "</table>\n",
       "</div>"
      ],
      "text/plain": [
       "     Name  Age\n",
       "0   Alice   25\n",
       "1     Bob   30\n",
       "2  Claire   35"
      ]
     },
     "metadata": {},
     "output_type": "display_data"
    },
    {
     "data": {
      "text/plain": [
       "pandas.core.frame.DataFrame"
      ]
     },
     "metadata": {},
     "output_type": "display_data"
    }
   ],
   "source": [
    "data = {'Name':['Alice','Bob','Claire'],'Age': [25,30,35]}\n",
    "df_from_dict = pd.DataFrame(data)\n",
    "display(df_from_dict, type(df_from_dict))"
   ]
  },
  {
   "cell_type": "markdown",
   "id": "de4a4e2a",
   "metadata": {},
   "source": [
    "* **Creating a Pandas dataframe using List**"
   ]
  },
  {
   "cell_type": "code",
   "execution_count": 19,
   "id": "06875300",
   "metadata": {},
   "outputs": [
    {
     "data": {
      "text/html": [
       "<div>\n",
       "<style scoped>\n",
       "    .dataframe tbody tr th:only-of-type {\n",
       "        vertical-align: middle;\n",
       "    }\n",
       "\n",
       "    .dataframe tbody tr th {\n",
       "        vertical-align: top;\n",
       "    }\n",
       "\n",
       "    .dataframe thead th {\n",
       "        text-align: right;\n",
       "    }\n",
       "</style>\n",
       "<table border=\"1\" class=\"dataframe\">\n",
       "  <thead>\n",
       "    <tr style=\"text-align: right;\">\n",
       "      <th></th>\n",
       "      <th>Name</th>\n",
       "      <th>Age</th>\n",
       "    </tr>\n",
       "  </thead>\n",
       "  <tbody>\n",
       "    <tr>\n",
       "      <th>0</th>\n",
       "      <td>Alice</td>\n",
       "      <td>25</td>\n",
       "    </tr>\n",
       "    <tr>\n",
       "      <th>1</th>\n",
       "      <td>Bob</td>\n",
       "      <td>30</td>\n",
       "    </tr>\n",
       "    <tr>\n",
       "      <th>2</th>\n",
       "      <td>Charlie</td>\n",
       "      <td>35</td>\n",
       "    </tr>\n",
       "  </tbody>\n",
       "</table>\n",
       "</div>"
      ],
      "text/plain": [
       "      Name  Age\n",
       "0    Alice   25\n",
       "1      Bob   30\n",
       "2  Charlie   35"
      ]
     },
     "execution_count": 19,
     "metadata": {},
     "output_type": "execute_result"
    }
   ],
   "source": [
    "data = [['Alice',25], ['Bob',30], ['Charlie', 35]]\n",
    "df_from_list = pd.DataFrame(data, columns = ['Name', 'Age'])\n",
    "df_from_list"
   ]
  },
  {
   "cell_type": "markdown",
   "id": "ecd3b740",
   "metadata": {},
   "source": [
    "* **Save DataFrame to .csv file**"
   ]
  },
  {
   "cell_type": "code",
   "execution_count": 20,
   "id": "61b6a0c0",
   "metadata": {},
   "outputs": [],
   "source": [
    "df_from_dict.to_csv('save_df_from_dict.csv')\n",
    "df_from_list.to_csv('save_df_from_list.csv')"
   ]
  },
  {
   "cell_type": "markdown",
   "id": "5963084d",
   "metadata": {},
   "source": [
    "* **Creating a datafrrame from csv file**"
   ]
  },
  {
   "cell_type": "code",
   "execution_count": 23,
   "id": "ebfa5b5e",
   "metadata": {},
   "outputs": [
    {
     "data": {
      "text/html": [
       "<div>\n",
       "<style scoped>\n",
       "    .dataframe tbody tr th:only-of-type {\n",
       "        vertical-align: middle;\n",
       "    }\n",
       "\n",
       "    .dataframe tbody tr th {\n",
       "        vertical-align: top;\n",
       "    }\n",
       "\n",
       "    .dataframe thead th {\n",
       "        text-align: right;\n",
       "    }\n",
       "</style>\n",
       "<table border=\"1\" class=\"dataframe\">\n",
       "  <thead>\n",
       "    <tr style=\"text-align: right;\">\n",
       "      <th></th>\n",
       "      <th>Index</th>\n",
       "      <th>Customer Id</th>\n",
       "      <th>First Name</th>\n",
       "      <th>Last Name</th>\n",
       "      <th>Company</th>\n",
       "      <th>City</th>\n",
       "      <th>Country</th>\n",
       "      <th>Phone 1</th>\n",
       "      <th>Phone 2</th>\n",
       "      <th>Email</th>\n",
       "      <th>Subscription Date</th>\n",
       "      <th>Website</th>\n",
       "      <th>Numeric_Column</th>\n",
       "    </tr>\n",
       "  </thead>\n",
       "  <tbody>\n",
       "    <tr>\n",
       "      <th>0</th>\n",
       "      <td>1</td>\n",
       "      <td>DD37Cf93aecA6Dc</td>\n",
       "      <td>Sheryl</td>\n",
       "      <td>Baxter</td>\n",
       "      <td>Rasmussen Group</td>\n",
       "      <td>East Leonard</td>\n",
       "      <td>Chile</td>\n",
       "      <td>229.077.5154</td>\n",
       "      <td>397.884.0519x718</td>\n",
       "      <td>zunigavanessa@smith.info</td>\n",
       "      <td>24-08-2020</td>\n",
       "      <td>http://www.stephenson.com/</td>\n",
       "      <td>58</td>\n",
       "    </tr>\n",
       "    <tr>\n",
       "      <th>1</th>\n",
       "      <td>2</td>\n",
       "      <td>1Ef7b82A4CAAD10</td>\n",
       "      <td>Preston</td>\n",
       "      <td>Lozano</td>\n",
       "      <td>Vega-Gentry</td>\n",
       "      <td>East Jimmychester</td>\n",
       "      <td>Djibouti</td>\n",
       "      <td>5153435776</td>\n",
       "      <td>686-620-1820x944</td>\n",
       "      <td>vmata@colon.com</td>\n",
       "      <td>23-04-2021</td>\n",
       "      <td>http://www.hobbs.com/</td>\n",
       "      <td>62</td>\n",
       "    </tr>\n",
       "    <tr>\n",
       "      <th>2</th>\n",
       "      <td>3</td>\n",
       "      <td>6F94879bDAfE5a6</td>\n",
       "      <td>Roy</td>\n",
       "      <td>Berry</td>\n",
       "      <td>Murillo-Perry</td>\n",
       "      <td>Isabelborough</td>\n",
       "      <td>Antigua and Barbuda</td>\n",
       "      <td>-1199</td>\n",
       "      <td>(496)978-3969x58947</td>\n",
       "      <td>beckycarr@hogan.com</td>\n",
       "      <td>25-03-2020</td>\n",
       "      <td>http://www.lawrence.com/</td>\n",
       "      <td>91</td>\n",
       "    </tr>\n",
       "    <tr>\n",
       "      <th>3</th>\n",
       "      <td>4</td>\n",
       "      <td>5Cef8BFA16c5e3c</td>\n",
       "      <td>Linda</td>\n",
       "      <td>Olsen</td>\n",
       "      <td>Dominguez, Mcmillan and Donovan</td>\n",
       "      <td>Bensonview</td>\n",
       "      <td>Dominican Republic</td>\n",
       "      <td>001-808-617-6467x12895</td>\n",
       "      <td>-9892</td>\n",
       "      <td>stanleyblackwell@benson.org</td>\n",
       "      <td>02-06-2020</td>\n",
       "      <td>http://www.good-lyons.com/</td>\n",
       "      <td>41</td>\n",
       "    </tr>\n",
       "    <tr>\n",
       "      <th>4</th>\n",
       "      <td>5</td>\n",
       "      <td>053d585Ab6b3159</td>\n",
       "      <td>Joanna</td>\n",
       "      <td>Bender</td>\n",
       "      <td>Martin, Lang and Andrade</td>\n",
       "      <td>West Priscilla</td>\n",
       "      <td>Slovakia (Slovak Republic)</td>\n",
       "      <td>001-234-203-0635x76146</td>\n",
       "      <td>001-199-446-3860x3486</td>\n",
       "      <td>colinalvarado@miles.net</td>\n",
       "      <td>17-04-2021</td>\n",
       "      <td>https://goodwin-ingram.com/</td>\n",
       "      <td>50</td>\n",
       "    </tr>\n",
       "  </tbody>\n",
       "</table>\n",
       "</div>"
      ],
      "text/plain": [
       "   Index      Customer Id First Name Last Name  \\\n",
       "0      1  DD37Cf93aecA6Dc     Sheryl    Baxter   \n",
       "1      2  1Ef7b82A4CAAD10    Preston    Lozano   \n",
       "2      3  6F94879bDAfE5a6        Roy     Berry   \n",
       "3      4  5Cef8BFA16c5e3c      Linda     Olsen   \n",
       "4      5  053d585Ab6b3159     Joanna    Bender   \n",
       "\n",
       "                           Company               City  \\\n",
       "0                  Rasmussen Group       East Leonard   \n",
       "1                      Vega-Gentry  East Jimmychester   \n",
       "2                    Murillo-Perry      Isabelborough   \n",
       "3  Dominguez, Mcmillan and Donovan         Bensonview   \n",
       "4         Martin, Lang and Andrade     West Priscilla   \n",
       "\n",
       "                      Country                 Phone 1                Phone 2  \\\n",
       "0                       Chile            229.077.5154       397.884.0519x718   \n",
       "1                    Djibouti              5153435776       686-620-1820x944   \n",
       "2         Antigua and Barbuda                   -1199    (496)978-3969x58947   \n",
       "3          Dominican Republic  001-808-617-6467x12895                  -9892   \n",
       "4  Slovakia (Slovak Republic)  001-234-203-0635x76146  001-199-446-3860x3486   \n",
       "\n",
       "                         Email Subscription Date                      Website  \\\n",
       "0     zunigavanessa@smith.info        24-08-2020   http://www.stephenson.com/   \n",
       "1              vmata@colon.com        23-04-2021        http://www.hobbs.com/   \n",
       "2          beckycarr@hogan.com        25-03-2020     http://www.lawrence.com/   \n",
       "3  stanleyblackwell@benson.org        02-06-2020   http://www.good-lyons.com/   \n",
       "4      colinalvarado@miles.net        17-04-2021  https://goodwin-ingram.com/   \n",
       "\n",
       "   Numeric_Column  \n",
       "0              58  \n",
       "1              62  \n",
       "2              91  \n",
       "3              41  \n",
       "4              50  "
      ]
     },
     "execution_count": 23,
     "metadata": {},
     "output_type": "execute_result"
    }
   ],
   "source": [
    "df = pd.read_csv('data.csv')\n",
    "df.head()"
   ]
  },
  {
   "cell_type": "code",
   "execution_count": 25,
   "id": "f25677bd",
   "metadata": {},
   "outputs": [
    {
     "name": "stdout",
     "output_type": "stream",
     "text": [
      "Empty DataFrame\n",
      "Columns: []\n",
      "Index: []\n"
     ]
    }
   ],
   "source": [
    "# Create an empty Data frame\n",
    "df_empty = pd.DataFrame()\n",
    "print(df_empty)"
   ]
  },
  {
   "cell_type": "markdown",
   "id": "065781e5",
   "metadata": {},
   "source": [
    "* **Selecting columns used in Dataframe**"
   ]
  },
  {
   "cell_type": "code",
   "execution_count": 32,
   "id": "8c1bb5f5",
   "metadata": {},
   "outputs": [
    {
     "data": {
      "text/plain": [
       "Index(['Index', 'Customer Id', 'First Name', 'Last Name', 'Company', 'City',\n",
       "       'Country', 'Phone 1', 'Phone 2', 'Email', 'Subscription Date',\n",
       "       'Website', 'Numeric_Column'],\n",
       "      dtype='object')"
      ]
     },
     "metadata": {},
     "output_type": "display_data"
    }
   ],
   "source": [
    "display(df.columns)"
   ]
  },
  {
   "cell_type": "markdown",
   "id": "6c11344c",
   "metadata": {},
   "source": [
    "* **Select specific column in Dataframe**"
   ]
  },
  {
   "cell_type": "code",
   "execution_count": 34,
   "id": "56c9bf88",
   "metadata": {},
   "outputs": [
    {
     "data": {
      "text/plain": [
       "0                          Chile\n",
       "1                       Djibouti\n",
       "2            Antigua and Barbuda\n",
       "3             Dominican Republic\n",
       "4     Slovakia (Slovak Republic)\n",
       "                 ...            \n",
       "95                        Guyana\n",
       "96                     Sri Lanka\n",
       "97               Solomon Islands\n",
       "98                         Aruba\n",
       "99                      Honduras\n",
       "Name: Country, Length: 100, dtype: object"
      ]
     },
     "metadata": {},
     "output_type": "display_data"
    }
   ],
   "source": [
    "display(df['Country'])"
   ]
  },
  {
   "cell_type": "markdown",
   "id": "a65f6679",
   "metadata": {},
   "source": [
    "* **For more than one column, use double Square[] brackets**"
   ]
  },
  {
   "cell_type": "code",
   "execution_count": 40,
   "id": "b1451b81",
   "metadata": {},
   "outputs": [
    {
     "data": {
      "text/html": [
       "<div>\n",
       "<style scoped>\n",
       "    .dataframe tbody tr th:only-of-type {\n",
       "        vertical-align: middle;\n",
       "    }\n",
       "\n",
       "    .dataframe tbody tr th {\n",
       "        vertical-align: top;\n",
       "    }\n",
       "\n",
       "    .dataframe thead th {\n",
       "        text-align: right;\n",
       "    }\n",
       "</style>\n",
       "<table border=\"1\" class=\"dataframe\">\n",
       "  <thead>\n",
       "    <tr style=\"text-align: right;\">\n",
       "      <th></th>\n",
       "      <th>Customer Id</th>\n",
       "      <th>First Name</th>\n",
       "      <th>Last Name</th>\n",
       "      <th>Company</th>\n",
       "      <th>City</th>\n",
       "      <th>Country</th>\n",
       "    </tr>\n",
       "  </thead>\n",
       "  <tbody>\n",
       "    <tr>\n",
       "      <th>0</th>\n",
       "      <td>DD37Cf93aecA6Dc</td>\n",
       "      <td>Sheryl</td>\n",
       "      <td>Baxter</td>\n",
       "      <td>Rasmussen Group</td>\n",
       "      <td>East Leonard</td>\n",
       "      <td>Chile</td>\n",
       "    </tr>\n",
       "    <tr>\n",
       "      <th>1</th>\n",
       "      <td>1Ef7b82A4CAAD10</td>\n",
       "      <td>Preston</td>\n",
       "      <td>Lozano</td>\n",
       "      <td>Vega-Gentry</td>\n",
       "      <td>East Jimmychester</td>\n",
       "      <td>Djibouti</td>\n",
       "    </tr>\n",
       "    <tr>\n",
       "      <th>2</th>\n",
       "      <td>6F94879bDAfE5a6</td>\n",
       "      <td>Roy</td>\n",
       "      <td>Berry</td>\n",
       "      <td>Murillo-Perry</td>\n",
       "      <td>Isabelborough</td>\n",
       "      <td>Antigua and Barbuda</td>\n",
       "    </tr>\n",
       "    <tr>\n",
       "      <th>3</th>\n",
       "      <td>5Cef8BFA16c5e3c</td>\n",
       "      <td>Linda</td>\n",
       "      <td>Olsen</td>\n",
       "      <td>Dominguez, Mcmillan and Donovan</td>\n",
       "      <td>Bensonview</td>\n",
       "      <td>Dominican Republic</td>\n",
       "    </tr>\n",
       "    <tr>\n",
       "      <th>4</th>\n",
       "      <td>053d585Ab6b3159</td>\n",
       "      <td>Joanna</td>\n",
       "      <td>Bender</td>\n",
       "      <td>Martin, Lang and Andrade</td>\n",
       "      <td>West Priscilla</td>\n",
       "      <td>Slovakia (Slovak Republic)</td>\n",
       "    </tr>\n",
       "    <tr>\n",
       "      <th>...</th>\n",
       "      <td>...</td>\n",
       "      <td>...</td>\n",
       "      <td>...</td>\n",
       "      <td>...</td>\n",
       "      <td>...</td>\n",
       "      <td>...</td>\n",
       "    </tr>\n",
       "    <tr>\n",
       "      <th>95</th>\n",
       "      <td>cb8E23e48d22Eae</td>\n",
       "      <td>Karl</td>\n",
       "      <td>Greer</td>\n",
       "      <td>Carey LLC</td>\n",
       "      <td>East Richard</td>\n",
       "      <td>Guyana</td>\n",
       "    </tr>\n",
       "    <tr>\n",
       "      <th>96</th>\n",
       "      <td>CeD220bdAaCfaDf</td>\n",
       "      <td>Lynn</td>\n",
       "      <td>Atkinson</td>\n",
       "      <td>Ware, Burns and Oneal</td>\n",
       "      <td>New Bradview</td>\n",
       "      <td>Sri Lanka</td>\n",
       "    </tr>\n",
       "    <tr>\n",
       "      <th>97</th>\n",
       "      <td>28CDbC0dFe4b1Db</td>\n",
       "      <td>Fred</td>\n",
       "      <td>Guerra</td>\n",
       "      <td>Schmitt-Jones</td>\n",
       "      <td>Ortegaland</td>\n",
       "      <td>Solomon Islands</td>\n",
       "    </tr>\n",
       "    <tr>\n",
       "      <th>98</th>\n",
       "      <td>c23d1D9EE8DEB0A</td>\n",
       "      <td>Yvonne</td>\n",
       "      <td>Farmer</td>\n",
       "      <td>Fitzgerald-Harrell</td>\n",
       "      <td>Lake Elijahview</td>\n",
       "      <td>Aruba</td>\n",
       "    </tr>\n",
       "    <tr>\n",
       "      <th>99</th>\n",
       "      <td>2354a0E336A91A1</td>\n",
       "      <td>Clarence</td>\n",
       "      <td>Haynes</td>\n",
       "      <td>Le, Nash and Cross</td>\n",
       "      <td>Judymouth</td>\n",
       "      <td>Honduras</td>\n",
       "    </tr>\n",
       "  </tbody>\n",
       "</table>\n",
       "<p>100 rows × 6 columns</p>\n",
       "</div>"
      ],
      "text/plain": [
       "        Customer Id First Name Last Name                          Company  \\\n",
       "0   DD37Cf93aecA6Dc     Sheryl    Baxter                  Rasmussen Group   \n",
       "1   1Ef7b82A4CAAD10    Preston    Lozano                      Vega-Gentry   \n",
       "2   6F94879bDAfE5a6        Roy     Berry                    Murillo-Perry   \n",
       "3   5Cef8BFA16c5e3c      Linda     Olsen  Dominguez, Mcmillan and Donovan   \n",
       "4   053d585Ab6b3159     Joanna    Bender         Martin, Lang and Andrade   \n",
       "..              ...        ...       ...                              ...   \n",
       "95  cb8E23e48d22Eae       Karl     Greer                        Carey LLC   \n",
       "96  CeD220bdAaCfaDf       Lynn  Atkinson            Ware, Burns and Oneal   \n",
       "97  28CDbC0dFe4b1Db       Fred    Guerra                    Schmitt-Jones   \n",
       "98  c23d1D9EE8DEB0A     Yvonne    Farmer               Fitzgerald-Harrell   \n",
       "99  2354a0E336A91A1   Clarence    Haynes               Le, Nash and Cross   \n",
       "\n",
       "                 City                     Country  \n",
       "0        East Leonard                       Chile  \n",
       "1   East Jimmychester                    Djibouti  \n",
       "2       Isabelborough         Antigua and Barbuda  \n",
       "3          Bensonview          Dominican Republic  \n",
       "4      West Priscilla  Slovakia (Slovak Republic)  \n",
       "..                ...                         ...  \n",
       "95       East Richard                      Guyana  \n",
       "96       New Bradview                   Sri Lanka  \n",
       "97         Ortegaland             Solomon Islands  \n",
       "98    Lake Elijahview                       Aruba  \n",
       "99          Judymouth                    Honduras  \n",
       "\n",
       "[100 rows x 6 columns]"
      ]
     },
     "metadata": {},
     "output_type": "display_data"
    }
   ],
   "source": [
    "df_subset = df[['Customer Id', 'First Name', 'Last Name', 'Company', 'City',\n",
    "       'Country']]\n",
    "display(df_subset)"
   ]
  },
  {
   "cell_type": "markdown",
   "id": "f8f85231",
   "metadata": {},
   "source": [
    "* **Filter column in Dataset**"
   ]
  },
  {
   "cell_type": "code",
   "execution_count": 43,
   "id": "03b5fc76",
   "metadata": {},
   "outputs": [
    {
     "data": {
      "text/html": [
       "<div>\n",
       "<style scoped>\n",
       "    .dataframe tbody tr th:only-of-type {\n",
       "        vertical-align: middle;\n",
       "    }\n",
       "\n",
       "    .dataframe tbody tr th {\n",
       "        vertical-align: top;\n",
       "    }\n",
       "\n",
       "    .dataframe thead th {\n",
       "        text-align: right;\n",
       "    }\n",
       "</style>\n",
       "<table border=\"1\" class=\"dataframe\">\n",
       "  <thead>\n",
       "    <tr style=\"text-align: right;\">\n",
       "      <th></th>\n",
       "      <th>Index</th>\n",
       "      <th>Customer Id</th>\n",
       "      <th>First Name</th>\n",
       "      <th>Last Name</th>\n",
       "      <th>Company</th>\n",
       "      <th>City</th>\n",
       "      <th>Country</th>\n",
       "      <th>Phone 1</th>\n",
       "      <th>Phone 2</th>\n",
       "      <th>Email</th>\n",
       "      <th>Subscription Date</th>\n",
       "      <th>Website</th>\n",
       "      <th>Numeric_Column</th>\n",
       "    </tr>\n",
       "  </thead>\n",
       "  <tbody>\n",
       "    <tr>\n",
       "      <th>0</th>\n",
       "      <td>1</td>\n",
       "      <td>DD37Cf93aecA6Dc</td>\n",
       "      <td>Sheryl</td>\n",
       "      <td>Berry</td>\n",
       "      <td>Rasmussen Group</td>\n",
       "      <td>East Leonard</td>\n",
       "      <td>Chile</td>\n",
       "      <td>229.077.5154</td>\n",
       "      <td>397.884.0519x718</td>\n",
       "      <td>zunigavanessa@smith.info</td>\n",
       "      <td>24-08-2020</td>\n",
       "      <td>http://www.stephenson.com/</td>\n",
       "      <td>58</td>\n",
       "    </tr>\n",
       "    <tr>\n",
       "      <th>1</th>\n",
       "      <td>2</td>\n",
       "      <td>1Ef7b82A4CAAD10</td>\n",
       "      <td>Preston</td>\n",
       "      <td>Berry</td>\n",
       "      <td>Vega-Gentry</td>\n",
       "      <td>East Jimmychester</td>\n",
       "      <td>Djibouti</td>\n",
       "      <td>5153435776</td>\n",
       "      <td>686-620-1820x944</td>\n",
       "      <td>vmata@colon.com</td>\n",
       "      <td>23-04-2021</td>\n",
       "      <td>http://www.hobbs.com/</td>\n",
       "      <td>62</td>\n",
       "    </tr>\n",
       "    <tr>\n",
       "      <th>2</th>\n",
       "      <td>3</td>\n",
       "      <td>6F94879bDAfE5a6</td>\n",
       "      <td>Roy</td>\n",
       "      <td>Berry</td>\n",
       "      <td>Murillo-Perry</td>\n",
       "      <td>Isabelborough</td>\n",
       "      <td>Antigua and Barbuda</td>\n",
       "      <td>-1199</td>\n",
       "      <td>(496)978-3969x58947</td>\n",
       "      <td>beckycarr@hogan.com</td>\n",
       "      <td>25-03-2020</td>\n",
       "      <td>http://www.lawrence.com/</td>\n",
       "      <td>91</td>\n",
       "    </tr>\n",
       "    <tr>\n",
       "      <th>3</th>\n",
       "      <td>4</td>\n",
       "      <td>5Cef8BFA16c5e3c</td>\n",
       "      <td>Linda</td>\n",
       "      <td>Berry</td>\n",
       "      <td>Dominguez, Mcmillan and Donovan</td>\n",
       "      <td>Bensonview</td>\n",
       "      <td>Dominican Republic</td>\n",
       "      <td>001-808-617-6467x12895</td>\n",
       "      <td>-9892</td>\n",
       "      <td>stanleyblackwell@benson.org</td>\n",
       "      <td>02-06-2020</td>\n",
       "      <td>http://www.good-lyons.com/</td>\n",
       "      <td>41</td>\n",
       "    </tr>\n",
       "    <tr>\n",
       "      <th>4</th>\n",
       "      <td>5</td>\n",
       "      <td>053d585Ab6b3159</td>\n",
       "      <td>Joanna</td>\n",
       "      <td>Berry</td>\n",
       "      <td>Martin, Lang and Andrade</td>\n",
       "      <td>West Priscilla</td>\n",
       "      <td>Slovakia (Slovak Republic)</td>\n",
       "      <td>001-234-203-0635x76146</td>\n",
       "      <td>001-199-446-3860x3486</td>\n",
       "      <td>colinalvarado@miles.net</td>\n",
       "      <td>17-04-2021</td>\n",
       "      <td>https://goodwin-ingram.com/</td>\n",
       "      <td>50</td>\n",
       "    </tr>\n",
       "    <tr>\n",
       "      <th>...</th>\n",
       "      <td>...</td>\n",
       "      <td>...</td>\n",
       "      <td>...</td>\n",
       "      <td>...</td>\n",
       "      <td>...</td>\n",
       "      <td>...</td>\n",
       "      <td>...</td>\n",
       "      <td>...</td>\n",
       "      <td>...</td>\n",
       "      <td>...</td>\n",
       "      <td>...</td>\n",
       "      <td>...</td>\n",
       "      <td>...</td>\n",
       "    </tr>\n",
       "    <tr>\n",
       "      <th>95</th>\n",
       "      <td>96</td>\n",
       "      <td>cb8E23e48d22Eae</td>\n",
       "      <td>Karl</td>\n",
       "      <td>Berry</td>\n",
       "      <td>Carey LLC</td>\n",
       "      <td>East Richard</td>\n",
       "      <td>Guyana</td>\n",
       "      <td>(188)169-1674x58692</td>\n",
       "      <td>001-841-293-3519x614</td>\n",
       "      <td>hhart@jensen.com</td>\n",
       "      <td>30-01-2022</td>\n",
       "      <td>http://hayes-perez.com/</td>\n",
       "      <td>20</td>\n",
       "    </tr>\n",
       "    <tr>\n",
       "      <th>96</th>\n",
       "      <td>97</td>\n",
       "      <td>CeD220bdAaCfaDf</td>\n",
       "      <td>Lynn</td>\n",
       "      <td>Berry</td>\n",
       "      <td>Ware, Burns and Oneal</td>\n",
       "      <td>New Bradview</td>\n",
       "      <td>Sri Lanka</td>\n",
       "      <td>-3769</td>\n",
       "      <td>605.413.3198</td>\n",
       "      <td>vkemp@ferrell.com</td>\n",
       "      <td>10-07-2021</td>\n",
       "      <td>https://novak-allison.com/</td>\n",
       "      <td>64</td>\n",
       "    </tr>\n",
       "    <tr>\n",
       "      <th>97</th>\n",
       "      <td>98</td>\n",
       "      <td>28CDbC0dFe4b1Db</td>\n",
       "      <td>Fred</td>\n",
       "      <td>Berry</td>\n",
       "      <td>Schmitt-Jones</td>\n",
       "      <td>Ortegaland</td>\n",
       "      <td>Solomon Islands</td>\n",
       "      <td>+1-753-067-8419x7170</td>\n",
       "      <td>+1-632-666-7507x92121</td>\n",
       "      <td>swagner@kane.org</td>\n",
       "      <td>18-09-2021</td>\n",
       "      <td>https://www.ross.com/</td>\n",
       "      <td>83</td>\n",
       "    </tr>\n",
       "    <tr>\n",
       "      <th>98</th>\n",
       "      <td>99</td>\n",
       "      <td>c23d1D9EE8DEB0A</td>\n",
       "      <td>Yvonne</td>\n",
       "      <td>Berry</td>\n",
       "      <td>Fitzgerald-Harrell</td>\n",
       "      <td>Lake Elijahview</td>\n",
       "      <td>Aruba</td>\n",
       "      <td>(530)311-9786</td>\n",
       "      <td>001-869-452-0943x12424</td>\n",
       "      <td>mccarthystephen@horn-green.biz</td>\n",
       "      <td>11-08-2021</td>\n",
       "      <td>http://watkins.info/</td>\n",
       "      <td>10</td>\n",
       "    </tr>\n",
       "    <tr>\n",
       "      <th>99</th>\n",
       "      <td>100</td>\n",
       "      <td>2354a0E336A91A1</td>\n",
       "      <td>Clarence</td>\n",
       "      <td>Berry</td>\n",
       "      <td>Le, Nash and Cross</td>\n",
       "      <td>Judymouth</td>\n",
       "      <td>Honduras</td>\n",
       "      <td>(753)813-6941</td>\n",
       "      <td>783.639.1472</td>\n",
       "      <td>colleen91@faulkner.biz</td>\n",
       "      <td>11-03-2020</td>\n",
       "      <td>http://www.hatfield-saunders.net/</td>\n",
       "      <td>98</td>\n",
       "    </tr>\n",
       "  </tbody>\n",
       "</table>\n",
       "<p>100 rows × 13 columns</p>\n",
       "</div>"
      ],
      "text/plain": [
       "    Index      Customer Id First Name Last Name  \\\n",
       "0       1  DD37Cf93aecA6Dc     Sheryl     Berry   \n",
       "1       2  1Ef7b82A4CAAD10    Preston     Berry   \n",
       "2       3  6F94879bDAfE5a6        Roy     Berry   \n",
       "3       4  5Cef8BFA16c5e3c      Linda     Berry   \n",
       "4       5  053d585Ab6b3159     Joanna     Berry   \n",
       "..    ...              ...        ...       ...   \n",
       "95     96  cb8E23e48d22Eae       Karl     Berry   \n",
       "96     97  CeD220bdAaCfaDf       Lynn     Berry   \n",
       "97     98  28CDbC0dFe4b1Db       Fred     Berry   \n",
       "98     99  c23d1D9EE8DEB0A     Yvonne     Berry   \n",
       "99    100  2354a0E336A91A1   Clarence     Berry   \n",
       "\n",
       "                            Company               City  \\\n",
       "0                   Rasmussen Group       East Leonard   \n",
       "1                       Vega-Gentry  East Jimmychester   \n",
       "2                     Murillo-Perry      Isabelborough   \n",
       "3   Dominguez, Mcmillan and Donovan         Bensonview   \n",
       "4          Martin, Lang and Andrade     West Priscilla   \n",
       "..                              ...                ...   \n",
       "95                        Carey LLC       East Richard   \n",
       "96            Ware, Burns and Oneal       New Bradview   \n",
       "97                    Schmitt-Jones         Ortegaland   \n",
       "98               Fitzgerald-Harrell    Lake Elijahview   \n",
       "99               Le, Nash and Cross          Judymouth   \n",
       "\n",
       "                       Country                 Phone 1  \\\n",
       "0                        Chile            229.077.5154   \n",
       "1                     Djibouti              5153435776   \n",
       "2          Antigua and Barbuda                   -1199   \n",
       "3           Dominican Republic  001-808-617-6467x12895   \n",
       "4   Slovakia (Slovak Republic)  001-234-203-0635x76146   \n",
       "..                         ...                     ...   \n",
       "95                      Guyana     (188)169-1674x58692   \n",
       "96                   Sri Lanka                   -3769   \n",
       "97             Solomon Islands    +1-753-067-8419x7170   \n",
       "98                       Aruba           (530)311-9786   \n",
       "99                    Honduras           (753)813-6941   \n",
       "\n",
       "                   Phone 2                           Email Subscription Date  \\\n",
       "0         397.884.0519x718        zunigavanessa@smith.info        24-08-2020   \n",
       "1         686-620-1820x944                 vmata@colon.com        23-04-2021   \n",
       "2      (496)978-3969x58947             beckycarr@hogan.com        25-03-2020   \n",
       "3                    -9892     stanleyblackwell@benson.org        02-06-2020   \n",
       "4    001-199-446-3860x3486         colinalvarado@miles.net        17-04-2021   \n",
       "..                     ...                             ...               ...   \n",
       "95    001-841-293-3519x614                hhart@jensen.com        30-01-2022   \n",
       "96            605.413.3198               vkemp@ferrell.com        10-07-2021   \n",
       "97   +1-632-666-7507x92121                swagner@kane.org        18-09-2021   \n",
       "98  001-869-452-0943x12424  mccarthystephen@horn-green.biz        11-08-2021   \n",
       "99            783.639.1472          colleen91@faulkner.biz        11-03-2020   \n",
       "\n",
       "                              Website  Numeric_Column  \n",
       "0          http://www.stephenson.com/              58  \n",
       "1               http://www.hobbs.com/              62  \n",
       "2            http://www.lawrence.com/              91  \n",
       "3          http://www.good-lyons.com/              41  \n",
       "4         https://goodwin-ingram.com/              50  \n",
       "..                                ...             ...  \n",
       "95            http://hayes-perez.com/              20  \n",
       "96         https://novak-allison.com/              64  \n",
       "97              https://www.ross.com/              83  \n",
       "98               http://watkins.info/              10  \n",
       "99  http://www.hatfield-saunders.net/              98  \n",
       "\n",
       "[100 rows x 13 columns]"
      ]
     },
     "execution_count": 43,
     "metadata": {},
     "output_type": "execute_result"
    }
   ],
   "source": [
    "young_people = df[df['Last Name']  =='Berry']\n",
    "young_people"
   ]
  },
  {
   "cell_type": "code",
   "execution_count": 44,
   "id": "58dbab6c",
   "metadata": {},
   "outputs": [
    {
     "data": {
      "text/html": [
       "<div>\n",
       "<style scoped>\n",
       "    .dataframe tbody tr th:only-of-type {\n",
       "        vertical-align: middle;\n",
       "    }\n",
       "\n",
       "    .dataframe tbody tr th {\n",
       "        vertical-align: top;\n",
       "    }\n",
       "\n",
       "    .dataframe thead th {\n",
       "        text-align: right;\n",
       "    }\n",
       "</style>\n",
       "<table border=\"1\" class=\"dataframe\">\n",
       "  <thead>\n",
       "    <tr style=\"text-align: right;\">\n",
       "      <th></th>\n",
       "      <th>Index</th>\n",
       "      <th>Customer Id</th>\n",
       "      <th>First Name</th>\n",
       "      <th>Last Name</th>\n",
       "      <th>Company</th>\n",
       "      <th>City</th>\n",
       "      <th>Country</th>\n",
       "      <th>Phone 1</th>\n",
       "      <th>Phone 2</th>\n",
       "      <th>Email</th>\n",
       "      <th>Subscription Date</th>\n",
       "      <th>Website</th>\n",
       "      <th>Numeric_Column</th>\n",
       "    </tr>\n",
       "  </thead>\n",
       "  <tbody>\n",
       "    <tr>\n",
       "      <th>0</th>\n",
       "      <td>1</td>\n",
       "      <td>DD37Cf93aecA6Dc</td>\n",
       "      <td>Sheryl</td>\n",
       "      <td>Berry</td>\n",
       "      <td>Rasmussen Group</td>\n",
       "      <td>East Leonard</td>\n",
       "      <td>Chile</td>\n",
       "      <td>229.077.5154</td>\n",
       "      <td>397.884.0519x718</td>\n",
       "      <td>zunigavanessa@smith.info</td>\n",
       "      <td>24-08-2020</td>\n",
       "      <td>http://www.stephenson.com/</td>\n",
       "      <td>58</td>\n",
       "    </tr>\n",
       "  </tbody>\n",
       "</table>\n",
       "</div>"
      ],
      "text/plain": [
       "   Index      Customer Id First Name Last Name          Company          City  \\\n",
       "0      1  DD37Cf93aecA6Dc     Sheryl     Berry  Rasmussen Group  East Leonard   \n",
       "\n",
       "  Country       Phone 1           Phone 2                     Email  \\\n",
       "0   Chile  229.077.5154  397.884.0519x718  zunigavanessa@smith.info   \n",
       "\n",
       "  Subscription Date                     Website  Numeric_Column  \n",
       "0        24-08-2020  http://www.stephenson.com/              58  "
      ]
     },
     "execution_count": 44,
     "metadata": {},
     "output_type": "execute_result"
    }
   ],
   "source": [
    "young_people = df[df['Country']  =='Chile']\n",
    "young_people"
   ]
  },
  {
   "cell_type": "markdown",
   "id": "d0ea6add",
   "metadata": {},
   "source": [
    "* **Accessing a specific cell by row and column label**"
   ]
  },
  {
   "cell_type": "code",
   "execution_count": 45,
   "id": "3c8624cc",
   "metadata": {},
   "outputs": [
    {
     "data": {
      "text/plain": [
       "'Le, Nash and Cross'"
      ]
     },
     "execution_count": 45,
     "metadata": {},
     "output_type": "execute_result"
    }
   ],
   "source": [
    "cell_value = df.at[99,'Company']\n",
    "cell_value"
   ]
  },
  {
   "cell_type": "code",
   "execution_count": 55,
   "id": "72bf8ca8",
   "metadata": {},
   "outputs": [
    {
     "data": {
      "text/plain": [
       "'(897)726-7952'"
      ]
     },
     "execution_count": 55,
     "metadata": {},
     "output_type": "execute_result"
    }
   ],
   "source": [
    "# Problem: What is Phone Number on record 45\n",
    "cloumn_45 = df.at[45,'Phone 1']\n",
    "cloumn_45"
   ]
  },
  {
   "cell_type": "markdown",
   "id": "b5f28ab3",
   "metadata": {},
   "source": [
    "* **Let's check datatypes in dataset in pandas**"
   ]
  },
  {
   "cell_type": "code",
   "execution_count": 67,
   "id": "e4c86992",
   "metadata": {},
   "outputs": [
    {
     "data": {
      "text/plain": [
       "Index                 int64\n",
       "Customer Id          object\n",
       "First Name           object\n",
       "Last Name            object\n",
       "Company              object\n",
       "City                 object\n",
       "Country              object\n",
       "Phone 1              object\n",
       "Phone 2              object\n",
       "Email                object\n",
       "Subscription Date    object\n",
       "Website              object\n",
       "Numeric_Column        int64\n",
       "dtype: object"
      ]
     },
     "execution_count": 67,
     "metadata": {},
     "output_type": "execute_result"
    }
   ],
   "source": [
    "df.dtypes"
   ]
  },
  {
   "cell_type": "markdown",
   "id": "c0ea8495",
   "metadata": {},
   "source": [
    "* **Let's check shape of dataset in pandas**"
   ]
  },
  {
   "cell_type": "code",
   "execution_count": 68,
   "id": "9c1bfe86",
   "metadata": {},
   "outputs": [
    {
     "data": {
      "text/plain": [
       "(100, 13)"
      ]
     },
     "execution_count": 68,
     "metadata": {},
     "output_type": "execute_result"
    }
   ],
   "source": [
    "df.shape"
   ]
  },
  {
   "cell_type": "markdown",
   "id": "b4e33105",
   "metadata": {},
   "source": [
    "* **Let's count the number of missing values in dataset using pandas**"
   ]
  },
  {
   "cell_type": "code",
   "execution_count": 70,
   "id": "b82b1f2d",
   "metadata": {},
   "outputs": [
    {
     "data": {
      "text/plain": [
       "Index                0\n",
       "Customer Id          0\n",
       "First Name           0\n",
       "Last Name            0\n",
       "Company              0\n",
       "City                 0\n",
       "Country              0\n",
       "Phone 1              0\n",
       "Phone 2              0\n",
       "Email                0\n",
       "Subscription Date    0\n",
       "Website              0\n",
       "Numeric_Column       0\n",
       "dtype: int64"
      ]
     },
     "execution_count": 70,
     "metadata": {},
     "output_type": "execute_result"
    }
   ],
   "source": [
    "df.isnull().sum()"
   ]
  },
  {
   "cell_type": "markdown",
   "id": "6d0ec995",
   "metadata": {},
   "source": [
    "* **Let's count uniques values in Categorical columns in dataset using pandas**"
   ]
  },
  {
   "cell_type": "code",
   "execution_count": 75,
   "id": "61ecf2d8",
   "metadata": {},
   "outputs": [
    {
     "data": {
      "text/plain": [
       "array(['East Leonard', 'East Jimmychester', 'Isabelborough', 'Bensonview',\n",
       "       'West Priscilla', 'Chavezborough', 'Lake Ana', 'Kimport',\n",
       "       'Robersonstad', 'Elaineberg', 'Shannonville', 'East Andrea',\n",
       "       'South Joannamouth', 'Jodyberg', 'Burchbury', 'Desireeshire',\n",
       "       'West Adriennestad', 'Lake Leslie', 'Harmonview', 'Jamesshire',\n",
       "       'East Carly', 'South Alvin', 'Brittanyview', 'Veronicamouth',\n",
       "       'Bryanville', 'Kaitlyntown', 'Michealshire', 'South Marissatown',\n",
       "       'Acevedoville', 'North Harold', 'West Samuel', 'Cunninghamborough',\n",
       "       'Port Annatown', 'New Kaitlyn', 'West Marthaburgh', 'East Teresa',\n",
       "       'South Hunter', 'South Walter', 'Poolefurt', 'West John',\n",
       "       'West Darius', 'North Jimstad', 'East Rebekahborough',\n",
       "       'North Drew', 'Lake Lindaburgh', 'Gwendolynview', 'Zimmermanland',\n",
       "       'North Kerriton', 'North Eileenville', 'Port Sergiofort',\n",
       "       'New Alberttown', 'South Jasmine', 'Cowanfort', 'New Deborah',\n",
       "       'Wallstown', 'Lake Ellenchester', 'Lake Whitney', 'East Jaredbury',\n",
       "       'Selenabury', 'Huangfort', 'East Pennyshire', 'Port Jasminborough',\n",
       "       'West Kristine', 'South Julia', 'Helenborough', 'Lake Nancy',\n",
       "       'Georgeport', 'South Sophiaberg', 'Hartbury', 'Erikaville',\n",
       "       'Nicolasfort', 'New Jasmineshire', 'East Summerstad',\n",
       "       'Skinnerport', 'Raystad', 'Colinhaven', 'West Reginald',\n",
       "       'Lake Sherryborough', 'Port Katherineville', 'Thomasland',\n",
       "       'Coreybury', 'Lake Janiceton', 'East Clinton', 'South Joshuashire',\n",
       "       'New Glenda', 'North Jillianview', 'Lyonsberg',\n",
       "       'East Cristinabury', 'Thomasfurt', 'North Joeburgh',\n",
       "       'Cassidychester', 'South Dannymouth', 'South Lonnie',\n",
       "       'Frankchester', 'Daisyborough', 'East Richard', 'New Bradview',\n",
       "       'Ortegaland', 'Lake Elijahview', 'Judymouth'], dtype=object)"
      ]
     },
     "execution_count": 75,
     "metadata": {},
     "output_type": "execute_result"
    }
   ],
   "source": [
    "df['City'].unique()"
   ]
  },
  {
   "cell_type": "code",
   "execution_count": 79,
   "id": "323005be",
   "metadata": {},
   "outputs": [
    {
     "data": {
      "text/plain": [
       "Numeric_Column\n",
       "93    4\n",
       "10    4\n",
       "58    3\n",
       "65    3\n",
       "75    3\n",
       "     ..\n",
       "42    1\n",
       "32    1\n",
       "11    1\n",
       "13    1\n",
       "98    1\n",
       "Name: count, Length: 61, dtype: int64"
      ]
     },
     "execution_count": 79,
     "metadata": {},
     "output_type": "execute_result"
    }
   ],
   "source": [
    "df['City'].value_counts()"
   ]
  },
  {
   "cell_type": "code",
   "execution_count": 80,
   "id": "902747f0",
   "metadata": {},
   "outputs": [
    {
     "data": {
      "image/png": "[encoded data removed]",
      "text/plain": [
       "<Figure size 640x480 with 1 Axes>"
      ]
     },
     "metadata": {},
     "output_type": "display_data"
    }
   ],
   "source": [
    "import matplotlib.pyplot as plt\n",
    "\n",
    "df['City'].hist()\n",
    "plt.show()"
   ]
  },
  {
   "cell_type": "markdown",
   "id": "045fbbdb",
   "metadata": {},
   "source": [
    "#Practice Problem"
   ]
  },
  {
   "cell_type": "code",
   "execution_count": 66,
   "id": "6c80a5a7",
   "metadata": {},
   "outputs": [
    {
     "name": "stdout",
     "output_type": "stream",
     "text": [
      "{1: 'a', 2: 'b'}\n"
     ]
    }
   ],
   "source": [
    "# First way\n",
    "# Problem: Write a function to swap keys and values\n",
    "dict_1 = {'a':1, 'b':2}\n",
    "swap_dict = {1:'a',2:'b'}\n",
    "\n",
    "\n",
    "def swap_dict(dict):\n",
    "    swap_output = {}\n",
    "    for k,v in dict.items():\n",
    "        swap_output[v]= k\n",
    "    print(swap_output)\n",
    "\n",
    "swap_dict(dict_1)"
   ]
  },
  {
   "cell_type": "code",
   "execution_count": 65,
   "id": "ddde5554",
   "metadata": {},
   "outputs": [
    {
     "name": "stdout",
     "output_type": "stream",
     "text": [
      "{1: 'a', 2: 'b', 3: 'c'}\n"
     ]
    }
   ],
   "source": [
    "# Second way my_dict = {'a': 1, 'b': 2, 'c': 3}\n",
    "\n",
    "# Separate lists for keys and values\n",
    "keys = list(my_dict.keys())\n",
    "values = list(my_dict.values())\n",
    "\n",
    "emp_dict = {}\n",
    "for i in range(len(keys)):\n",
    "    emp_dict[values[i]] = keys[i]\n",
    "\n",
    "print(emp_dict)"
   ]
  },
  {
   "cell_type": "code",
   "execution_count": 149,
   "id": "19ff7c1c",
   "metadata": {},
   "outputs": [
    {
     "name": "stdout",
     "output_type": "stream",
     "text": [
      "['a2', 'b1', 'c4']\n"
     ]
    }
   ],
   "source": [
    "input = \"aabccccaaa\"\n",
    "output = \"a2b1c4a3\"\n",
    "\n",
    "emp_dict = {}\n",
    "save = []\n",
    "count = 1\n",
    "\n",
    "for i in range(len(input)-1): # a   a   b   c   c   c   c   a   a   \n",
    "    \n",
    "    if input[i] == input[i+1]: # i = 0,3,4,5,7,8\n",
    "        count +=1\n",
    "        characters = input[i] + str(count)\n",
    "        \n",
    "    else:   # i = 1,2,6\n",
    "        save.append(input[i] + str(count))\n",
    "        count = 1\n",
    "print(save)\n",
    "    #print(save.append(characters))\n",
    "\n",
    "\n",
    "    \n",
    "        \n",
    "   \n",
    "    # if i not in emp_dict:\n",
    "    #     emp_dict[i] = 1\n",
    "    # else:\n",
    "    #     emp_dict[i] += 1\n",
    "#print(emp_dict)\n",
    "\n"
   ]
  },
  {
   "cell_type": "code",
   "execution_count": 148,
   "id": "9d4e589a",
   "metadata": {},
   "outputs": [
    {
     "data": {
      "text/plain": [
       "'a'"
      ]
     },
     "execution_count": 148,
     "metadata": {},
     "output_type": "execute_result"
    }
   ],
   "source": [
    "input[-1]"
   ]
  },
  {
   "cell_type": "code",
   "execution_count": null,
   "id": "5e76fc5c",
   "metadata": {},
   "outputs": [],
   "source": []
  }
 ],
 "metadata": {
  "kernelspec": {
   "display_name": "Python 3",
   "language": "python",
   "name": "python3"
  },
  "language_info": {
   "codemirror_mode": {
    "name": "ipython",
    "version": 3
   },
   "file_extension": ".py",
   "mimetype": "text/x-python",
   "name": "python",
   "nbconvert_exporter": "python",
   "pygments_lexer": "ipython3",
   "version": "3.12.3"
  }
 },
 "nbformat": 4,
 "nbformat_minor": 5
}
