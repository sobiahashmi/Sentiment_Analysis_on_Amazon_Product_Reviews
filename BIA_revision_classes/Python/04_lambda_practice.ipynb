{
 "cells": [
  {
   "cell_type": "markdown",
   "id": "54607655",
   "metadata": {},
   "source": [
    "# Lambda Function"
   ]
  },
  {
   "cell_type": "markdown",
   "id": "1eba22b7",
   "metadata": {},
   "source": [
    "**Problem#1: Write a lambda function to calculate the square of a number.**"
   ]
  },
  {
   "cell_type": "code",
   "execution_count": 4,
   "id": "b1cc719d",
   "metadata": {},
   "outputs": [
    {
     "name": "stdout",
     "output_type": "stream",
     "text": [
      "36\n"
     ]
    }
   ],
   "source": [
    "number_square = lambda x:x*x\n",
    "print(number_square(6))"
   ]
  },
  {
   "cell_type": "markdown",
   "id": "691799d8",
   "metadata": {},
   "source": [
    "**Problem#2: Write a lambda function that takes two numbers and returns their sum.**"
   ]
  },
  {
   "cell_type": "code",
   "execution_count": 5,
   "id": "a8bbb48c",
   "metadata": {},
   "outputs": [
    {
     "name": "stdout",
     "output_type": "stream",
     "text": [
      "9\n"
     ]
    }
   ],
   "source": [
    "sum = lambda x,y:x+y\n",
    "print(sum(4,5))"
   ]
  },
  {
   "cell_type": "markdown",
   "id": "2e0fac7d",
   "metadata": {},
   "source": [
    "**Problem#3 Write a lambda function that returns True if a number is even, otherwise False.**"
   ]
  },
  {
   "cell_type": "code",
   "execution_count": 8,
   "id": "2efb951e",
   "metadata": {},
   "outputs": [
    {
     "name": "stdout",
     "output_type": "stream",
     "text": [
      "True\n"
     ]
    }
   ],
   "source": [
    "check_even = lambda x: x%2==0\n",
    "print(check_even(6))"
   ]
  },
  {
   "cell_type": "markdown",
   "id": "f8c4d7de",
   "metadata": {},
   "source": [
    "**Problem#4 Write a lambda function that returns the maximum of two numbers.**"
   ]
  },
  {
   "cell_type": "code",
   "execution_count": 10,
   "id": "e5c953ef",
   "metadata": {},
   "outputs": [
    {
     "name": "stdout",
     "output_type": "stream",
     "text": [
      "10\n"
     ]
    }
   ],
   "source": [
    "max_number = lambda x,y: x if x>y else y\n",
    "print(max_number(10,2))"
   ]
  },
  {
   "cell_type": "markdown",
   "id": "16ac0e35",
   "metadata": {},
   "source": [
    "**Problem#5: Write a lambda function that takes a string and returns it in uppercase.**"
   ]
  },
  {
   "cell_type": "code",
   "execution_count": 11,
   "id": "dd264c29",
   "metadata": {},
   "outputs": [
    {
     "name": "stdout",
     "output_type": "stream",
     "text": [
      "DATA SCIENCE\n"
     ]
    }
   ],
   "source": [
    "to_uppercase = lambda s:s.upper()\n",
    "print(to_uppercase(\"Data Science\"))"
   ]
  },
  {
   "cell_type": "markdown",
   "id": "5f60d288",
   "metadata": {},
   "source": [
    "# Lambda Function (Basic Practice)"
   ]
  },
  {
   "cell_type": "markdown",
   "id": "c5d0aff1",
   "metadata": {},
   "source": [
    "**Problem # 01: Write a lambda function that returns True if a string starts with the letter 'A', otherwise False**"
   ]
  },
  {
   "cell_type": "code",
   "execution_count": 13,
   "id": "936461b8",
   "metadata": {},
   "outputs": [
    {
     "name": "stdout",
     "output_type": "stream",
     "text": [
      "True\n"
     ]
    }
   ],
   "source": [
    "start_string = lambda s: True if s.startswith(\"A\") else False\n",
    "print(start_string(\"Apple\"))"
   ]
  },
  {
   "cell_type": "markdown",
   "id": "bbe38a82",
   "metadata": {},
   "source": [
    "**Problem # 02: Write a lambda function that returns the length of a string.**"
   ]
  },
  {
   "cell_type": "code",
   "execution_count": 15,
   "id": "d552bbd5",
   "metadata": {},
   "outputs": [
    {
     "name": "stdout",
     "output_type": "stream",
     "text": [
      "23\n"
     ]
    }
   ],
   "source": [
    "length_str = lambda a: len(a)\n",
    "print(length_str(\"Artificial Intelligence\"))"
   ]
  },
  {
   "cell_type": "markdown",
   "id": "1d81e9f9",
   "metadata": {},
   "source": [
    "**Problem # 03: Write a lambda function that multiplies three numbers together and returns the result.**"
   ]
  },
  {
   "cell_type": "code",
   "execution_count": 16,
   "id": "2532f6ee",
   "metadata": {},
   "outputs": [
    {
     "name": "stdout",
     "output_type": "stream",
     "text": [
      "24\n"
     ]
    }
   ],
   "source": [
    "multiplies = lambda x,y,z: x*y*z\n",
    "print(multiplies(2,3,4))"
   ]
  },
  {
   "cell_type": "markdown",
   "id": "2c1a7987",
   "metadata": {},
   "source": [
    "**Problem # 04: Write a lambda function that returns the last character of a string.**"
   ]
  },
  {
   "cell_type": "code",
   "execution_count": 17,
   "id": "994f50e2",
   "metadata": {},
   "outputs": [
    {
     "name": "stdout",
     "output_type": "stream",
     "text": [
      "n\n"
     ]
    }
   ],
   "source": [
    "last_character = lambda a : a[-1]\n",
    "print(last_character(\"Python\"))"
   ]
  },
  {
   "cell_type": "markdown",
   "id": "0586dd9c",
   "metadata": {},
   "source": [
    "**Problem # 05: Write a lambda function that returns the greater number out of three values.**"
   ]
  },
  {
   "cell_type": "code",
   "execution_count": 18,
   "id": "3eb428cc",
   "metadata": {},
   "outputs": [
    {
     "name": "stdout",
     "output_type": "stream",
     "text": [
      "7\n"
     ]
    }
   ],
   "source": [
    "greater_num = lambda x,y,z: max(x,y,z)\n",
    "print(greater_num(3,5,7))"
   ]
  },
  {
   "cell_type": "markdown",
   "id": "a0bf7113",
   "metadata": {},
   "source": [
    "# Lambda Function (Intermediate Practice)"
   ]
  },
  {
   "cell_type": "markdown",
   "id": "bad92fb7",
   "metadata": {},
   "source": [
    "**Problem # 01: Write a lambda function that takes a number and returns:**\n",
    "- \"Positive\" if the number is greater than 0\n",
    "- \"Negative\" if it's less than 0\n",
    "- \"Zero\" if it's exactly 0"
   ]
  },
  {
   "cell_type": "code",
   "execution_count": 19,
   "id": "4e0cb5e7",
   "metadata": {},
   "outputs": [
    {
     "name": "stdout",
     "output_type": "stream",
     "text": [
      "Negative\n",
      "Positive\n",
      "Zero\n"
     ]
    }
   ],
   "source": [
    "check_number = lambda x: \"Positive\" if x>0 else \"Negative\" if x<0 else \"Zero\"\n",
    "print(check_number(-3))\n",
    "print(check_number(3))\n",
    "print(check_number(0))"
   ]
  },
  {
   "cell_type": "markdown",
   "id": "53567538",
   "metadata": {},
   "source": [
    "**Problem # 02: Write a lambda function that checks whether a given string is a palindrome**\n",
    "- (reads the same forward and backward)"
   ]
  },
  {
   "cell_type": "code",
   "execution_count": null,
   "id": "25269724",
   "metadata": {},
   "outputs": [
    {
     "name": "stdout",
     "output_type": "stream",
     "text": [
      "nohtyP is palindrome of Python\n"
     ]
    }
   ],
   "source": [
    "# Solution - 01\n",
    "word = \"Python\"\n",
    "palindrome = word[::-1]\n",
    "print(f\"{palindrome} is palindrome of {word}\" if palindrome[::-1]==word else f\"{palindrome} is not palindrome of {word}\")"
   ]
  },
  {
   "cell_type": "code",
   "execution_count": null,
   "id": "ec46f7ea",
   "metadata": {},
   "outputs": [
    {
     "name": "stdout",
     "output_type": "stream",
     "text": [
      "True\n"
     ]
    }
   ],
   "source": [
    "# Solution - 02\n",
    "word = lambda a,b: True if a == b[::-1] else False\n",
    "print(word(\"Python\",\"nohtyP\"))"
   ]
  },
  {
   "cell_type": "code",
   "execution_count": 35,
   "id": "37ea8f59",
   "metadata": {},
   "outputs": [
    {
     "name": "stdout",
     "output_type": "stream",
     "text": [
      "True\n"
     ]
    }
   ],
   "source": [
    "# Solution - 03\n",
    "word = lambda a,b: a==b[::-1]\n",
    "print(word(\"Python\",\"nohtyP\"))"
   ]
  },
  {
   "cell_type": "markdown",
   "id": "59e60e79",
   "metadata": {},
   "source": [
    "**Problem # 03: Write a lambda function that takes a number and returns:**\n",
    "- \"Even\" if the number is divisible by 2\n",
    "- \"Odd\" otherwise"
   ]
  },
  {
   "cell_type": "code",
   "execution_count": 37,
   "id": "de85ec78",
   "metadata": {},
   "outputs": [
    {
     "name": "stdout",
     "output_type": "stream",
     "text": [
      "Even\n"
     ]
    }
   ],
   "source": [
    "check_even = lambda x: \"Even\" if x%2 == 0 else \"Odd\"\n",
    "print(check_even(4))"
   ]
  },
  {
   "cell_type": "code",
   "execution_count": 39,
   "id": "ac85cc3c",
   "metadata": {},
   "outputs": [
    {
     "name": "stdout",
     "output_type": "stream",
     "text": [
      "[2, 4, 6, 8]\n"
     ]
    }
   ],
   "source": [
    "check_even = list(filter(lambda x: x%2 == 0, [1,2,3,4,5,6,7,8]))\n",
    "print(check_even)"
   ]
  },
  {
   "cell_type": "code",
   "execution_count": 41,
   "id": "f26db658",
   "metadata": {},
   "outputs": [
    {
     "data": {
      "text/plain": [
       "[2, 4, 6]"
      ]
     },
     "execution_count": 41,
     "metadata": {},
     "output_type": "execute_result"
    }
   ],
   "source": [
    "check_even = list(filter(lambda x: x%2 == 0, [1,2,3,4,5,6]))\n",
    "check_even"
   ]
  },
  {
   "cell_type": "markdown",
   "id": "f9aa7099",
   "metadata": {},
   "source": [
    "**Problem:Write a lambda function using map() to convert a list of strings to uppercase.**\n",
    "\n",
    "🔹 Input: [\"python\", \"data\", \"ai\"]\n",
    "🔹 Output: [\"PYTHON\", \"DATA\", \"AI\"]"
   ]
  },
  {
   "cell_type": "code",
   "execution_count": null,
   "id": "0b498086",
   "metadata": {},
   "outputs": [],
   "source": [
    "check_map = lambda a: [\"python\", \"data\", \"ai\"])"
   ]
  }
 ],
 "metadata": {
  "kernelspec": {
   "display_name": "Python 3",
   "language": "python",
   "name": "python3"
  },
  "language_info": {
   "codemirror_mode": {
    "name": "ipython",
    "version": 3
   },
   "file_extension": ".py",
   "mimetype": "text/x-python",
   "name": "python",
   "nbconvert_exporter": "python",
   "pygments_lexer": "ipython3",
   "version": "3.12.3"
  }
 },
 "nbformat": 4,
 "nbformat_minor": 5
}
